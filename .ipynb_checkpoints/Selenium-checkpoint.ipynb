{
 "cells": [
  {
   "cell_type": "code",
   "execution_count": 1,
   "id": "b1e12274",
   "metadata": {},
   "outputs": [],
   "source": [
    "#!pip install selenium\n",
    "#!pip install webdriver_manager"
   ]
  },
  {
   "cell_type": "code",
   "execution_count": 2,
   "id": "64054492",
   "metadata": {},
   "outputs": [],
   "source": [
    "# this is the library that we will use to create break times in order to mimic human behaviour \n",
    "import time\n",
    "\n",
    "# this library will be used for getting your credentials but keeping them hidden in the script \n",
    "from getpass import getpass\n",
    "\n",
    "# Juicy stuff- these are the Classes we will use for interaction with a webpage:\n",
    "from selenium import webdriver\n",
    "from selenium.webdriver.common.keys import Keys\n",
    "from selenium.webdriver.chrome.service import Service\n",
    "from selenium.webdriver.chrome.options import Options\n",
    "from selenium.webdriver.common.by import By\n",
    "from webdriver_manager.chrome import ChromeDriverManager\n",
    "from selenium.common.exceptions import NoSuchElementException\n",
    "\n",
    "\n",
    "\n",
    "# library for interacting with the operating system\n",
    "import os\n",
    "\n",
    "# you know pandas it's your best buddy \n",
    "import pandas as pd\n",
    "\n",
    "# library for directory location:\n",
    "\n",
    "import pathlib\n",
    "import os\n",
    "from os.path import join\n",
    "\n",
    "#Ignore warning -- Some methods are going to be deprecated and I didn't change all (mainly in the function scrapper)\n",
    "import warnings\n",
    "warnings.filterwarnings('ignore')"
   ]
  },
  {
   "cell_type": "code",
   "execution_count": 2,
   "id": "fb325585",
   "metadata": {
    "scrolled": false
   },
   "outputs": [
    {
     "name": "stderr",
     "output_type": "stream",
     "text": [
      "[WDM] - Downloading: 100%|██████████| 6.80M/6.80M [00:02<00:00, 3.16MB/s]\n"
     ]
    }
   ],
   "source": [
    "driver = webdriver.Chrome(service=Service(ChromeDriverManager().install()))"
   ]
  },
  {
   "cell_type": "code",
   "execution_count": 3,
   "id": "eccd84f8",
   "metadata": {},
   "outputs": [],
   "source": [
    "#open the website\n",
    "\n",
    "driver.get('https://www.linkedin.com')"
   ]
  },
  {
   "cell_type": "code",
   "execution_count": 4,
   "id": "a544c257",
   "metadata": {},
   "outputs": [],
   "source": [
    "# delete the \"Accept cookies pop-up notification\":\n",
    "\n",
    "#signin = driver.find_element(By.XPATH,'//*[@id=\"artdeco-global-alert-container\"]/div/section/div/div[2]/button[1]')\n",
    "#signin.click()"
   ]
  },
  {
   "cell_type": "code",
   "execution_count": 5,
   "id": "34442929",
   "metadata": {},
   "outputs": [],
   "source": [
    "# finding the sign in element\n",
    "\n",
    "#signin = driver.find_element_by_class_name('nav__button-secondary')\n",
    "#or new way \n",
    "signin = driver.find_element(By.CLASS_NAME, 'nav__button-secondary')\n",
    "\n",
    "signin.click() ## with the method click you will be able to click the element you searched for ##\n",
    "\n",
    "time.sleep(1.5) ## never forget to put a sleep timer in order to mimic human interaction ##"
   ]
  },
  {
   "cell_type": "code",
   "execution_count": 6,
   "id": "fae6427f",
   "metadata": {
    "scrolled": true
   },
   "outputs": [
    {
     "name": "stdout",
     "output_type": "stream",
     "text": [
      "Enter your email : quino117@hotmail.com\n",
      "Enter your password : ········\n"
     ]
    }
   ],
   "source": [
    "# login into your LinkedIn account\n",
    "\n",
    "# input your email\n",
    "\n",
    "email = input('Enter your email : ')\n",
    "\n",
    "# here we are going to find the box where we input the email\n",
    "email_box = driver.find_element(By.ID, \"username\") #email_box = driver.find_element_by_id(\"username\") #deprecated\n",
    "\n",
    "#clear the search box if it has already something in there\n",
    "email_box.clear()\n",
    "\n",
    "# with the method send_keys() you can send the information from the script to the webpage\n",
    "email_box.send_keys(email)\n",
    "time.sleep(2)\n",
    "\n",
    "# input the password\n",
    "password = getpass('Enter your password : ')\n",
    "\n",
    "# here we are going to find the box where we input the password\n",
    "pass_box = driver.find_element(By.ID, 'password') #pass_box = driver.find_element_by_id('password') #deprecated\n",
    "\n",
    "#clear the paword box if it has already something in there\n",
    "pass_box.clear()\n",
    "\n",
    "# here we will send the password to the driver \n",
    "pass_box.send_keys(password)\n",
    "time.sleep(1)\n",
    "\n",
    "login = driver.find_element(By.CLASS_NAME,'login__form_action_container') #login = driver.find_element_by_class_name('login__form_action_container') #deprecated\n",
    "\n",
    "login.click()\n",
    "time.sleep(1)"
   ]
  },
  {
   "cell_type": "code",
   "execution_count": 7,
   "id": "e0a28b9e",
   "metadata": {},
   "outputs": [],
   "source": [
    "#Disable messages tab:\n",
    "\n",
    "remove_message = driver.find_element(By.XPATH, '/html/body/div[6]/aside/div[1]/header/div[3]/button[2]')\n",
    "remove_message.click()"
   ]
  },
  {
   "cell_type": "code",
   "execution_count": 8,
   "id": "10f549dd",
   "metadata": {},
   "outputs": [],
   "source": [
    "# search bar\n",
    "\n",
    "# locate the element by the id\n",
    "\n",
    "# or new method\n",
    "job_icon = driver.find_element(By.CSS_SELECTOR, \"span[title='Jobs']\")\n",
    "\n",
    "job_icon.click()\n",
    "time.sleep(2)\n",
    "\n",
    "\n",
    "\n",
    "#global-nav > div > nav > ul > li:nth-child(3) > a"
   ]
  },
  {
   "cell_type": "code",
   "execution_count": 9,
   "id": "afa012d6",
   "metadata": {},
   "outputs": [
    {
     "name": "stdout",
     "output_type": "stream",
     "text": [
      "What job do you want to search for: data\n"
     ]
    }
   ],
   "source": [
    "# this is not the best approach because even with selenium some elements keep on changing (automatically update themselves)  \n",
    "# because they are written in\n",
    "# ember.js \n",
    "\n",
    "search_job = driver.find_elements(By.CLASS_NAME,'jobs-search-box__text-input')[0] #search_job = driver.find_elements_by_class_name('jobs-search-box__text-input')[0]\n",
    "\n",
    "job = input('What job do you want to search for: ')\n",
    "\n",
    "search_job.send_keys(job)\n",
    "time.sleep(2)\n",
    "\n",
    "#search_job.send_keys(Keys.TAB)\n"
   ]
  },
  {
   "cell_type": "code",
   "execution_count": 10,
   "id": "a727c838",
   "metadata": {},
   "outputs": [
    {
     "name": "stdout",
     "output_type": "stream",
     "text": [
      "Where do you want to search for jobs: Spain\n"
     ]
    }
   ],
   "source": [
    "#Use the Tab key from the keyboard because it allows us to go from the job box to the location box\n",
    "\n",
    "search_job.send_keys(Keys.TAB)\n",
    "#get the element the cursor is on\n",
    "location_box = driver.switch_to.active_element\n",
    "\n",
    "location = input('Where do you want to search for jobs: ')\n",
    "location_box.send_keys(location)\n",
    "\n",
    "time.sleep(1)\n"
   ]
  },
  {
   "cell_type": "code",
   "execution_count": 11,
   "id": "a0804321",
   "metadata": {},
   "outputs": [],
   "source": [
    "# click enter with the parameter keys.ENTER inside the method send_keys()\n",
    "\n",
    "location_box.send_keys(Keys.ENTER)"
   ]
  },
  {
   "cell_type": "code",
   "execution_count": 12,
   "id": "efe8bc30",
   "metadata": {},
   "outputs": [],
   "source": [
    "# Maximize the window \n",
    "\n",
    "driver.maximize_window() \n",
    "\n",
    "## you can also fullscreen the window \n",
    "\n",
    "#driver.fullscreen_window()"
   ]
  },
  {
   "cell_type": "code",
   "execution_count": 13,
   "id": "eebc085e",
   "metadata": {},
   "outputs": [],
   "source": [
    "# go to the end of the page in order for all the elements to be loaded\n",
    "## to scroll a section you should find an a tag in that section, click that element and then scroll to the end\n",
    "\n",
    "page = driver.find_element(By.CSS_SELECTOR, \"div[class^='application-outlet']\") \n",
    "page.click()\n",
    "time.sleep(1)\n",
    "\n",
    "job_viewer = driver.find_element(By.CSS_SELECTOR, \"a[class^='disabled ember-view']\") #page = driver.find_element_by_css_selector(\"a[class^='disabled ember-view']\")\n",
    "job_viewer.send_keys(Keys.END)"
   ]
  },
  {
   "cell_type": "code",
   "execution_count": 14,
   "id": "1c444372",
   "metadata": {},
   "outputs": [],
   "source": [
    "## build a function ##\n",
    "\n",
    "# GET ALL JOB LINKS \n",
    "\n",
    "''' !!!ADVANCED: talk a little about how to find with partial class name!!!\n",
    "\n",
    "e.g.:\n",
    "      driver.find_elements_by_css_selector(<tagname>\"[<attribute>^='<partial text of the attribute>']\")\n",
    "\n",
    "exammple in the line bellow '''\n",
    "\n",
    "job_raw = driver.find_elements(By.CSS_SELECTOR,\"a[class^='disabled ember-view']\")\n",
    "\n",
    "def scrapper(numb_j = len(job_raw)): ## add pages\n",
    "\n",
    "    \"\"\" SUMMARY: This function retrives all the job posts \n",
    "    links from one page and returns a dataset with\n",
    "    the name of the job in one column and the link to the post in the other. \n",
    "    Also it will write the same info in different files\n",
    "    for every single job post.\n",
    "    \n",
    "    HOW IT WORKS: Input the number of jobs you want to scrape. \n",
    "    It will search on the page for the elements by css selector \n",
    "    from all the job posts then loop for every single element and retrieve the 'href'. \n",
    "    Also it will click on every job post and find the job name.\n",
    "    This info will be saved in a dictionary that will in the end be converted to \n",
    "    a dataset.\n",
    "    Below we will open and create a text file with the name of the job post \n",
    "    and inside save the link for further details\"\"\"\n",
    "\n",
    "    # For scraper reasons it's required to duplicate the numb_j as it retrieves 2 times the same position:\n",
    "    numb_j = numb_j*2\n",
    "    \n",
    "    # empty list for saving the job names , link and extra info: \n",
    "    job_list = []\n",
    "\n",
    "    # reduce the page size in order to be able to find the name of the job in the right session \n",
    "    # driver.execute_script(\"document.body.style.zoom='67%'\")\n",
    "\n",
    "    # all jobs in the page\n",
    "    job_raw = driver.find_elements(By.CSS_SELECTOR,\"a[class^='disabled ember-view']\") \n",
    "\n",
    "    # go to the end of the page for all the elements to be loaded\n",
    "    page = driver.find_element(By.CSS_SELECTOR,\"a[class^='disabled ember-view']\")\n",
    "    page.send_keys(Keys.END)   \n",
    "    # go to the top of the page for all the elements to be loaded\n",
    "    page.send_keys(Keys.CONTROL + Keys.HOME) # combination of the two keys brings you to the top of the element\n",
    "\n",
    "\n",
    "    for j_idx in range(min(numb_j, len(job_raw))):\n",
    "        if j_idx % 2 == 0:\n",
    "            # get the job link\n",
    "            ref = job_raw[j_idx].get_attribute('href') \n",
    "            time.sleep(2)\n",
    "\n",
    "            # increase the page size because the inspect for getting the job name where done wiht the page maximized\n",
    "            driver.execute_script(\"document.body.style.zoom='100%'\")\n",
    "\n",
    "            ## let's click on the job post ##\n",
    "            # driver.find_elements_by_css_selector(\"a[class^='disabled ember-view']\")[j_idx].click()\n",
    "            job_raw[j_idx].click()\n",
    "            time.sleep(1.4)\n",
    "\n",
    "            ## then we reduce the page size in order to be able to see the right part of the page \n",
    "            # and find the element with the name of the job ##\n",
    "            driver.execute_script(\"document.body.style.zoom='67%'\")\n",
    "            time.sleep(2.3)\n",
    "\n",
    "            # get the job name with the .text method\n",
    "            job_name = driver.find_element(By.CSS_SELECTOR,\"h2[class^='t-24 t-bold']\").text\n",
    "            time.sleep(2.2)\n",
    "\n",
    "            # get job description with css selector + .text method:\n",
    "\n",
    "            # get company name:\n",
    "            company_name = driver.find_element(By.CSS_SELECTOR,\"span[class^='jobs-unified-top-card__company-name']\").text\n",
    "            \n",
    "            # get job details: \n",
    "\n",
    "            job_details = driver.find_element(By.ID,\"job-details\").text\n",
    "            \n",
    "            # get salary if available: \n",
    "\n",
    "            try:\n",
    "                skills_missing = driver.find_element(By.XPATH,\"/html/body/div[6]/div[3]/div[4]/div/div/main/div/div[2]/div/div[2]/div[1]/div/div[4]/section[2]/div/div/div[2]/div/a\").text\n",
    "            except NoSuchElementException:\n",
    "                skills_missing = None\n",
    "            \n",
    "            # get workplace details: \n",
    "\n",
    "            try:\n",
    "                workplace_type = driver.find_element(By.CSS_SELECTOR,\"span[class^='jobs-unified-top-card__workplace-type']\").text\n",
    "            except NoSuchElementException:\n",
    "                workplace_type = None\n",
    "            \n",
    "            # get skills: \n",
    "\n",
    "            try:\n",
    "                skills = driver.find_element(By.CSS_SELECTOR,\".app-aware-link.job-details-how-you-match__skills-item-subtitle.t-14.overflow-hidden\").text\n",
    "            except NoSuchElementException:\n",
    "                skills = None\n",
    "            \n",
    "            # get insights: \n",
    "\n",
    "            insights = driver.find_element(By.CSS_SELECTOR,\"li[class^='jobs-unified-top-card__job-insight']\").text\n",
    "\n",
    "            # increase the page size: \n",
    "            driver.execute_script(\"document.body.style.zoom='100%'\")\n",
    "\n",
    "            # populate list:\n",
    "            job_idx_list = [ref, job_name , company_name , job_details, skills_missing, workplace_type, skills, insights]\n",
    "            time.sleep(3)\n",
    "\n",
    "            # page.send_keys(Keys.PAGE_DOWN)\n",
    "\n",
    "            job_list.append(job_idx_list)\n",
    "\n",
    "            print(f\"Collected job : {job_name} for company: {company_name}\")\n",
    "\n",
    "    #Create dataframe:\n",
    "    Job_dataframe = pd.DataFrame(job_list, \n",
    "                                 columns = [\"job_link\", \"position\", \"company name\", \"job description\",\"skills_missing\", \"workplace_type\", \"skills\", \"insights\"]\n",
    "                                ).drop_duplicates()\n",
    "\n",
    "\n",
    "    #Save dataframe in excel file to later use our job \n",
    "    Job_dataframe.to_excel(pathlib.Path().joinpath('scraped_jobs.xlsx'), \n",
    "                           sheet_name='Jobs',\n",
    "                           index= False)\n",
    "    \n",
    "    return Job_dataframe"
   ]
  },
  {
   "cell_type": "code",
   "execution_count": 15,
   "id": "8306fe13",
   "metadata": {
    "scrolled": false
   },
   "outputs": [
    {
     "name": "stdout",
     "output_type": "stream",
     "text": [
      "How many job posts you want to retrieve: 15\n",
      "Collected job : Internet of Things Researcher for company: Vicomtech\n",
      "Collected job : Analista Business Intelligence for company: nettrim technology\n",
      "Collected job : Data Analyst for company: Vermut\n",
      "Collected job : Junior AI Researcher for Industry (Bilbao) for company: Vicomtech\n",
      "Collected job : ANALISTA DE DATOS (H/M/X) for company: Manpower\n"
     ]
    }
   ],
   "source": [
    "# How many job posts do you want to search for:\n",
    "## let's keep it a low number because it takes some time and I don't get to have my account blocked :D ## \n",
    "jobsN = int(input('How many job posts you want to retrieve: '))\n",
    "\n",
    "d1 = scrapper(jobsN)"
   ]
  },
  {
   "cell_type": "code",
   "execution_count": 16,
   "id": "93ee2d1c",
   "metadata": {
    "scrolled": true
   },
   "outputs": [
    {
     "name": "stdout",
     "output_type": "stream",
     "text": [
      "Collected job : Analista de datos for company: \n",
      "Collected job : Desarrollador/a BI for company: FI Group\n",
      "Collected job : Business Intelligence Specialist for company: EDP Renewables\n",
      "Collected job : Data Analyst for company: join.com\n",
      "Collected job : Data Scientist for company: Merkle Spain\n",
      "Collected job : Data Engineer for company: El Corte Inglés\n",
      "Collected job : Credit Data Analyst with English and Power BI - PageGroup SSC for company: Page Personnel\n",
      "Collected job : Local Data Analyst for company: Eli Lilly and Company\n",
      "Collected job : Analista de datos for company: ALPHABET CONSULTING\n",
      "Collected job : Power BI Specialist for company: ERNI\n"
     ]
    }
   ],
   "source": [
    "d2 = scrapper(10)"
   ]
  },
  {
   "cell_type": "code",
   "execution_count": 17,
   "id": "2a49803e",
   "metadata": {
    "scrolled": true
   },
   "outputs": [
    {
     "name": "stdout",
     "output_type": "stream",
     "text": [
      "Collected job : BI Engineering Analyst for company: The Workshop - Inventors of Play\n",
      "Collected job : Product Analyst for company: Tripledot Studios\n",
      "Collected job : Junior Data Scientist for company: Deloitte\n",
      "Collected job : Data Warehouse Moduler, Remote Spain for company: Hotelbeds\n",
      "Collected job : JUNIOR PROPERTY ANALYST for company: SPRINTER\n",
      "Collected job : Business Intelligence - Q2 for company: VISEO IBERIA\n",
      "Collected job : Online Data Analyst for company: TELUS International\n",
      "Collected job : Associate - Data Research for company: Clarity AI\n",
      "Collected job : Product Data Analyst for company: SumUp\n",
      "Collected job : Online Data Analyst for company: TELUS International\n",
      "Collected job : Junior Logistics Analyst for company: Amazon\n",
      "Collected job : Desarrollador Junior Power BI for company: EXCELIA\n",
      "Collected job : Business Digitalization Analyst (Contrato en prácticas) for company: ENGIE España\n"
     ]
    }
   ],
   "source": [
    "d3 = scrapper(15)"
   ]
  },
  {
   "cell_type": "code",
   "execution_count": 18,
   "id": "c2d480c7",
   "metadata": {
    "scrolled": false
   },
   "outputs": [
    {
     "name": "stdout",
     "output_type": "stream",
     "text": [
      "Collected job : Data Scientist for company: agap2 Spain\n",
      "Collected job : Data Consultant for company: SDG Group España\n",
      "Collected job : Online Data Analyst - Spain for company: TELUS International\n",
      "Collected job : Data Analyst / Data Engineer for company: Inetum\n",
      "Collected job : Master Data Specialist for company: Wodker Associates\n",
      "Collected job : Operations Data Analyst (They/She/He) for company: Glovo\n",
      "Collected job : Finance Data Analyst for company: Guardian Industries\n",
      "Collected job : Digital Analyst for company: NTT DATA Europe & Latam\n",
      "Collected job : Financial Planning and Analysis (FP&A) Analyst for company: Lookiero\n",
      "Collected job : Junior Digital Analyst Freelancer for company: Roche\n",
      "Collected job : Corporate Data Analyst for company: Leroy Merlin\n",
      "Collected job : Finance Data Analyst for company: Guardian Industries\n",
      "Collected job : Associate - Data Research for company: Clarity AI\n"
     ]
    }
   ],
   "source": [
    "d4 = scrapper(20)"
   ]
  },
  {
   "cell_type": "code",
   "execution_count": 19,
   "id": "1ffded24",
   "metadata": {
    "scrolled": true
   },
   "outputs": [
    {
     "name": "stdout",
     "output_type": "stream",
     "text": [
      "Collected job : Técnico(a) de Sostenibilidad con Data Analytics for company: VidaCaixa\n",
      "Collected job : Power BI Expert Developer for company: NTT DATA Europe & Latam\n",
      "Collected job : Data Analyst of AML Transaction Monitoring Quality Control for company: Santander\n",
      "Collected job : Digital Analyst for company: NTT DATA Europe & Latam\n",
      "Collected job : Route Optimization Analyst for company: CHEP\n",
      "Collected job : Junior Data Scientist - Hybrid Intelligence for company: Capgemini Engineering\n",
      "Collected job : Sales, Trading, Structuring Analyst - Expert Graduate Programme - 2023 for company: Barclays Corporate & Investment Bank\n",
      "Collected job : CONSULTOR BI – DATA ENGINEER for company: VISEO IBERIA\n",
      "Collected job : Técnico/a de migraciones - Data Analyst for company: ODILO\n",
      "Collected job : Online Data Analyst - Spain for company: TELUS International AI Data Solutions\n",
      "Collected job : Control de Gestión junior for company: Confidencial\n",
      "Collected job : Junior Operations Engineer for company: Atlantica Sustainable Infrastructure Plc\n",
      "Collected job : IT Business Analyst for company: Roche\n"
     ]
    }
   ],
   "source": [
    "d5 = scrapper(15)"
   ]
  },
  {
   "cell_type": "code",
   "execution_count": 20,
   "id": "e14996ab",
   "metadata": {},
   "outputs": [
    {
     "name": "stdout",
     "output_type": "stream",
     "text": [
      "Collected job : Desarrollador Junior Business Central for company: Integra\n",
      "Collected job : Total Rewards Junior Analyst for company: Preply\n",
      "Collected job : Workforce Management Analyst for company: Teleperformance\n",
      "Collected job : Digital Analytics Specialist for company: Schindler Group\n",
      "Collected job : Data Engineer (remote) for company: Guardian Industries\n",
      "Collected job : Data Specialist Spark / Scala - Full Remote for company: Profile Software Services\n",
      "Collected job : Data Engineer (remote) for company: Guardian Industries\n",
      "Collected job : Data Engineer _ Analytics and Modeling analyst for company: Accenture España\n",
      "Collected job : Deal Desk Analyst for company: Infor\n",
      "Collected job : CRO /Digital analyst for company: Habitissimo\n",
      "Collected job : Master Data Analyst for company: SGS\n",
      "Collected job : Business Analyst | Reporting Improvements SAS Visual Analytics for company: CORUS Consulting\n",
      "Collected job : Digital &Technology Product Manager Internship for company: CBRE España\n"
     ]
    }
   ],
   "source": [
    "d6 = scrapper(15)"
   ]
  },
  {
   "cell_type": "code",
   "execution_count": 21,
   "id": "57baf49e",
   "metadata": {
    "scrolled": true
   },
   "outputs": [
    {
     "name": "stdout",
     "output_type": "stream",
     "text": [
      "Collected job : Business Development Analyst in Madrid. for company: Deoleo\n",
      "Collected job : Data Scientist - Hybrid Intelligence for company: Capgemini Engineering\n",
      "Collected job : Onboarding Product Associate for company: Western Union\n",
      "Collected job : Data Analyst Sector Energético (Madrid/Barcelona) - ID 8001 for company: Naturgy\n",
      "Collected job : Data Analyst - Courier Growth (They/She/He) for company: Glovo\n",
      "Collected job : Data Engineer (remote) for company: Guardian Industries\n",
      "Collected job : Data Strategy Manager for company: Clarity AI\n",
      "Collected job : Project Assistant Internship for company: Arcadis\n",
      "Collected job : Data Scientist - HEALTH for company: Capgemini Engineering\n",
      "Collected job : Finance Business Analyst for company: Stryker\n",
      "Collected job : Jr Account & Ad Ops for company: Seedtag\n",
      "Collected job : Data Scientist - Valencia - for company: Michael Page\n",
      "Collected job : Data Engineer for company: Cívica\n"
     ]
    }
   ],
   "source": [
    "d7 = scrapper(15)"
   ]
  },
  {
   "cell_type": "code",
   "execution_count": 22,
   "id": "29b2c5a2",
   "metadata": {
    "scrolled": true
   },
   "outputs": [
    {
     "name": "stdout",
     "output_type": "stream",
     "text": [
      "Collected job : ANALISTA BUSINESS INTELLIGENCE for company: LA SIRENA\n",
      "Collected job : Analista Business Intelligence for company: nettrim technology\n",
      "Collected job : Business Analyst (They/She/He) for company: Glovo\n",
      "Collected job : Data Analyst for company: Quantion\n",
      "Collected job : Business Analyst for company: Nucleoo\n",
      "Collected job : Business Analyst (Barcelona) for company: TIA JOBS\n",
      "Collected job : Business Analyst for company: Deporvillage.com\n",
      "Collected job : Business Analyst for company: NBCC Consulting\n",
      "Collected job : Business Analyst for company: HP\n",
      "Collected job : Junior Data Analyst Power BI - CONTRATO 6 MESES for company: LogiRAIL\n",
      "Collected job : Business Intelligence Consultant for company: ÁlamoConsulting\n",
      "Collected job : Business Analyst for company: Kiwi.com\n",
      "Collected job : Data Analyst for company: SHA Wellness Clinic\n"
     ]
    }
   ],
   "source": [
    "d8 = scrapper(15)"
   ]
  },
  {
   "cell_type": "code",
   "execution_count": 23,
   "id": "77001e38",
   "metadata": {},
   "outputs": [
    {
     "name": "stdout",
     "output_type": "stream",
     "text": [
      "Collected job : Analista de datos for company: Master Work, S.A.\n",
      "Collected job : Consultor BI for company: Capgemini Engineering\n",
      "Collected job : Data Business Support Analyst - SCF Global Services for company: Santander\n",
      "Collected job : Data Analyst for company: Grupo Caja de Ingenieros\n",
      "Collected job : Data Analyst for company: SDG Group España\n",
      "Collected job : Business Analyst for company: HCLTech\n",
      "Collected job : Business Analyst - Empresa Industrial for company: Selection by Eurofirms\n",
      "Collected job : Data Analyst Power BI for company: CGI\n",
      "Collected job : Business Analysis H/M for company: Inetum\n",
      "Collected job : Data Analyst (80% Teletrabajo) for company: Oxigent Technologies\n",
      "Collected job : Business Analyst SALESFORCE for company: Capgemini\n",
      "Collected job : Analista de negocio for company: Securitas Direct by Verisure\n",
      "Collected job : Data Analyst for company: HCLTech\n"
     ]
    }
   ],
   "source": [
    "d9 = scrapper(15)"
   ]
  },
  {
   "cell_type": "code",
   "execution_count": 24,
   "id": "d3e489dc",
   "metadata": {
    "scrolled": true
   },
   "outputs": [
    {
     "name": "stdout",
     "output_type": "stream",
     "text": [
      "Collected job : AWS Business Intelligence Analyst for company: TD SYNNEX\n",
      "Collected job : Business Analyst Laboratory Informatics for company: Synthon\n",
      "Collected job : Business Analyst con Ingles (H/M) for company: Michael Page\n",
      "Collected job : Customer Intelligence Analyst for company: Zurich Insurance\n",
      "Collected job : CRT Data Management and Business Analyst Specialist for company: HP\n",
      "Collected job : Business Analyst Hybrid & Energy Storage Systems (d|m|f) for company: BayWa r.e. EMEA\n",
      "Collected job : Data Analyst - DataLake (Openbank) for company: Openbank\n",
      "Collected job : Product Data Analyst for company: SumUp\n",
      "Collected job : UTS Business Analyst for company: Unisys\n",
      "Collected job : Finance Business Analyst for company: Stryker\n",
      "Collected job : Data Analyst for company: Octopus Energy\n",
      "Collected job : Business Analyst in Securities Services-M/F/D for company: Societe Generale Securities Services - SGSS\n",
      "Collected job : Data Science Analyst for company: Locaria\n"
     ]
    }
   ],
   "source": [
    "d10 = scrapper(15)"
   ]
  },
  {
   "cell_type": "code",
   "execution_count": 25,
   "id": "8e912663",
   "metadata": {
    "scrolled": true
   },
   "outputs": [
    {
     "name": "stdout",
     "output_type": "stream",
     "text": [
      "Collected job : Desarrollador de inteligencia empresarial for company: Obliku\n",
      "Collected job : BI Analyst (Pricing) for company: Makro España\n",
      "Collected job : Business Analyst DAM (Digital Asset Management) & Analytics - Product Information & Content for company: Nestlé\n",
      "Collected job : Senior Game Data Analyst for company: Tilting Point\n",
      "Collected job : Operations Data Analyst (They/She/He) for company: Glovo\n",
      "Collected job : Business Analyst for company: Keywords Studios\n",
      "Collected job : Multilingual Graduate program – Data analysis for company: Morningstar\n",
      "Collected job : Calypso Business Analyst for company: First Derivative\n",
      "Collected job : 2023 - BUSINESS ANALYST for company: Kearney\n",
      "Collected job : Data Analyst - Chatbot for company: ING España&Portugal\n",
      "Collected job : Data Analyst (Engineer) for company: Revolut\n",
      "Collected job : Business Analyst - Quotation CPQ for company: Schneider Electric\n",
      "Collected job : Senior Data Analyst for company: Tinámica\n"
     ]
    }
   ],
   "source": [
    "d11 = scrapper(15)"
   ]
  },
  {
   "cell_type": "code",
   "execution_count": 26,
   "id": "f2442a40",
   "metadata": {
    "scrolled": true
   },
   "outputs": [
    {
     "name": "stdout",
     "output_type": "stream",
     "text": [
      "Collected job : BI Developer for company: Saber.tech\n",
      "Collected job : Business Analyst SAP for company: Scalian\n",
      "Collected job : Country Compliance Business Analyst for company: Openbravo\n",
      "Collected job : BI developer (con Azure) for company: Plain Concepts\n",
      "Collected job : Data Analyst Sector Energético (Madrid/Barcelona) - ID 8001 for company: Naturgy\n",
      "Collected job : Senior Bi Analyst for company: SCRM - Lidl International Hub\n",
      "Collected job : Senior Data Analyst for company: TravelPerk\n",
      "Collected job : Language Data Analyst - French for company: TransPerfect\n",
      "Collected job : Business Analysis and Sales Planning (idioma francés) for company: Page Personnel\n",
      "Collected job : Multilingual Associate Data Research Analyst for company: Morningstar\n",
      "Collected job : Biostatistician II for company: Precision For Medicine\n",
      "Collected job : Business Analyst for company: Capgemini\n",
      "Collected job : REMOTE WORK for Spanish Speakers | Data Analyst for company: TELUS International AI Data Solutions\n"
     ]
    }
   ],
   "source": [
    "d12 = scrapper(15)"
   ]
  },
  {
   "cell_type": "code",
   "execution_count": 27,
   "id": "a28b0e07",
   "metadata": {},
   "outputs": [
    {
     "name": "stdout",
     "output_type": "stream",
     "text": [
      "Collected job : Business Intelligence Developer for company: Futurs\n",
      "Collected job : Power BI Expert Developer for company: NTT DATA Europe & Latam\n",
      "Collected job : BI Analyst for company: LLYC\n",
      "Collected job : Experto/a Power BI, ETLs y SQL (Inglés alto) for company: Inetum\n",
      "Collected job : Business Intelligence (Tableau) Developer ESP for company: Teladoc Health\n",
      "Collected job : Web Business Analyst for company: Omega CRM, A Merkle Company\n",
      "Collected job : Danish Language Data Analyst for company: TELUS International\n",
      "Collected job : Customer Insights Analyst (Bangkok Based, Relocation Provided) for company: Agoda\n",
      "Collected job : Data Analyst & BI developer for company: Siemens Gamesa\n",
      "Collected job : Senior Biostatistician (CDS) EMEA for company: Labcorp\n",
      "Collected job : Senior Biostatistician (CDS) EMEA for company: Labcorp\n",
      "Collected job : Business Analyst (Bangkok Based, Relocation Provided) for company: Agoda\n",
      "Collected job : Biostatistician II for company: Precision Medicine Group\n"
     ]
    }
   ],
   "source": [
    "d13 = scrapper(15)"
   ]
  },
  {
   "cell_type": "code",
   "execution_count": 28,
   "id": "90a98368",
   "metadata": {},
   "outputs": [
    {
     "name": "stdout",
     "output_type": "stream",
     "text": [
      "Collected job : WEB ANALYTICS SPECIALIST for company: Reverse\n",
      "Collected job : Testing Analyst - Sales Practice Monitoring for company: American Express\n",
      "Collected job : Senior Cost Performance Analyst for company: Hotelbeds\n",
      "Collected job : Business Intelligence Data Engineer for company: SDG Group España\n",
      "Collected job : ANALISTA DE PLANES PROMOCIONALES for company: Grupo IskayPet (Tiendanimal, Kiwoko, Kivet, Clinicanimal)\n",
      "Collected job : Business Intelligence & Operations for company: Adobe\n",
      "Collected job : Ingeniero de datos for company: Arte Consultores\n",
      "Collected job : Junior Credit Analyst for company: Elavon Europe\n",
      "Collected job : ANALISTAS PROGRAMADORES NATURAL ADABAS for company: Inetum\n",
      "Collected job : Online Data Analyst - Spain for company: TELUS International\n",
      "Collected job : Data Analyst - Sector Financiero for company: Octopus Energy\n",
      "Collected job : Analistas Funcionales COBOL for company: Inetum\n",
      "Collected job : Financial Analyst - Part time for company: Moodle\n"
     ]
    }
   ],
   "source": [
    "d14 = scrapper(15)"
   ]
  },
  {
   "cell_type": "code",
   "execution_count": 29,
   "id": "1ff0cf98",
   "metadata": {},
   "outputs": [
    {
     "name": "stdout",
     "output_type": "stream",
     "text": [
      "Collected job : Data and Technical Operations Engineer for company: Clarity AI\n",
      "Collected job : Senior - Cyber Data Science for company: Deloitte\n",
      "Collected job : Digital Analyst eCommerce for company: Beam Suntory\n",
      "Collected job : Junior Portfolio Analyst for company: Cabot Financial Spain\n",
      "Collected job : Senior Business Intelligence Analytics for company: Cofidis España\n",
      "Collected job : Antipiracy Analyst (Korean/Japanese speakers) for company: Red Points\n",
      "Collected job : Analista financiero para entidad bancaria for company: Fundación Universia\n",
      "Collected job : SPAIN - ONLINE DATA ANALYST for company: TELUS International AI Data Solutions\n",
      "Collected job : .Net Developer - AI & Video Analytics Company Vallés Occ. for company: Page Personnel\n"
     ]
    }
   ],
   "source": [
    "d15 = scrapper(15)"
   ]
  },
  {
   "cell_type": "code",
   "execution_count": 30,
   "id": "8d28997e",
   "metadata": {},
   "outputs": [
    {
     "name": "stdout",
     "output_type": "stream",
     "text": [
      "Collected job : Data Engineer for company: Apex Group Ltd\n",
      "Collected job : Analista compra y coberturas mercados de energía for company: Creara, Energy Experts\n",
      "Collected job : Shopper Insights Analyst for company: Coca-Cola Europacific Partners\n",
      "Collected job : BIG DATA ENGINEER - Hybrid Intelligence for company: Capgemini Engineering\n",
      "Collected job : BA - Market Distribution for company: Scalian\n",
      "Collected job : Data Engineer for company: Atradius\n",
      "Collected job : IT PMO for company: Sopra HR Software\n",
      "Collected job : Junior Associate - McKinsey Digital for company: McKinsey & Company\n",
      "Collected job : Big Data Engineer – Data Lake – Openbank (Openhub Bilbao) for company: Santander\n",
      "Collected job : Business Analyst (Bangkok Based, Relocation Provided) for company: Agoda\n",
      "Collected job : Soporte de Análisis de Crédito for company: Sofinco España\n",
      "Collected job : NPS Voice of Customer Analyst for company: BNP Paribas Personal Finance\n",
      "Collected job : Regulatory Data Analyst for company: BME | Bolsas y Mercados Españoles\n"
     ]
    }
   ],
   "source": [
    "d16 = scrapper(15)"
   ]
  },
  {
   "cell_type": "code",
   "execution_count": 31,
   "id": "31030f73",
   "metadata": {},
   "outputs": [
    {
     "name": "stdout",
     "output_type": "stream",
     "text": [
      "Collected job : SAP SD Business Analyst for company: ALTEN\n",
      "Collected job : ETL Developer for company: TransPerfect\n",
      "Collected job : Data Engineer (Machine Learning) for company: GMV\n",
      "Collected job : Application Support Analyst for company: Western Union\n",
      "Collected job : Consultor/a Junior Financial Analytics for company: KPMG España\n",
      "Collected job : Data Analyst for company: ToBeIT\n",
      "Collected job : Analista de Negocio de Contact Center for company: Evolutio Empowering the cloud\n",
      "Collected job : Global IT Master Data (SAP MDG-F) Business Solution Analyst for company: Roche\n",
      "Collected job : ETL Developer (PySpark) for company: atSistemas\n",
      "Collected job : Data Center Critical Environment Technician. for company: Microsoft\n",
      "Collected job : Power BI y SQL - Recién Graduado/a en Ingeniería Informática, Telecomunicaciones y/o Telemática for company: Minsait\n",
      "Collected job : Data System Analyst for company: ContourGlobal\n",
      "Collected job : Financial Analyst for company: CHEP\n"
     ]
    }
   ],
   "source": [
    "d17 = scrapper(15)"
   ]
  },
  {
   "cell_type": "code",
   "execution_count": 32,
   "id": "d2a069cf",
   "metadata": {},
   "outputs": [
    {
     "name": "stdout",
     "output_type": "stream",
     "text": [
      "Collected job : Security Architect for company: The TMRW Foundation\n",
      "Collected job : Engineering Test&Validation Design Leader for company: Valeo\n",
      "Collected job : Data Analyst for company: Vermut\n",
      "Collected job : UTS Business Analyst for company: Unisys\n",
      "Collected job : Sales Analyst for company: Brown-Forman\n",
      "Collected job : Business Analyst (Barcelona) for company: TIA JOBS\n",
      "Collected job : Data Analyst for company: Product Madness 📱🎮\n",
      "Collected job : Senior Product Analyst for company: Scopely\n",
      "Collected job : Business Analyst - Future Opportunities for company: Unisys\n",
      "Collected job : Web Analytics Manager for company: Merkle EMEA\n",
      "Collected job : Big Data Arch for company: Accenture España\n",
      "Collected job : Mid Data Analyst/Engineer at Factorial HR for company: join.com\n",
      "Collected job : Principal Biostatistician, home-based EMEA for company: Labcorp\n"
     ]
    }
   ],
   "source": [
    "d18 = scrapper(15)"
   ]
  },
  {
   "cell_type": "code",
   "execution_count": 33,
   "id": "720c4948",
   "metadata": {},
   "outputs": [],
   "source": [
    "fourth = pd.concat([d1,d2,d3,d4,d5,d6,d7,d8,d9,d10,d11,d12,d13,d14,d15,d16,d17,d18], ignore_index=True)"
   ]
  },
  {
   "cell_type": "code",
   "execution_count": 34,
   "id": "b7a25b20",
   "metadata": {},
   "outputs": [
    {
     "data": {
      "text/html": [
       "<div>\n",
       "<style scoped>\n",
       "    .dataframe tbody tr th:only-of-type {\n",
       "        vertical-align: middle;\n",
       "    }\n",
       "\n",
       "    .dataframe tbody tr th {\n",
       "        vertical-align: top;\n",
       "    }\n",
       "\n",
       "    .dataframe thead th {\n",
       "        text-align: right;\n",
       "    }\n",
       "</style>\n",
       "<table border=\"1\" class=\"dataframe\">\n",
       "  <thead>\n",
       "    <tr style=\"text-align: right;\">\n",
       "      <th></th>\n",
       "      <th>job_link</th>\n",
       "      <th>position</th>\n",
       "      <th>company name</th>\n",
       "      <th>job description</th>\n",
       "      <th>skills_missing</th>\n",
       "      <th>workplace_type</th>\n",
       "      <th>skills</th>\n",
       "      <th>insights</th>\n",
       "    </tr>\n",
       "  </thead>\n",
       "  <tbody>\n",
       "    <tr>\n",
       "      <th>0</th>\n",
       "      <td>https://www.linkedin.com/jobs/view/3527504347/...</td>\n",
       "      <td>Internet of Things Researcher</td>\n",
       "      <td>Vicomtech</td>\n",
       "      <td>About the job\\nVicomtech (www.vicomtech.org) i...</td>\n",
       "      <td>Kubernetes, Docker, Arquitectura de sistemas, ...</td>\n",
       "      <td>On-site</td>\n",
       "      <td>Python, Inglés, Comunicación, and Investigación</td>\n",
       "      <td>Full-time · Mid-Senior level</td>\n",
       "    </tr>\n",
       "    <tr>\n",
       "      <th>1</th>\n",
       "      <td>https://www.linkedin.com/jobs/view/3570080991/...</td>\n",
       "      <td>Analista Business Intelligence</td>\n",
       "      <td>nettrim technology</td>\n",
       "      <td>About the job\\nEn nettrim technology buscamos ...</td>\n",
       "      <td>Almacenamiento de datos, Expresiones de anális...</td>\n",
       "      <td>Hybrid</td>\n",
       "      <td>SQL, Inteligencia empresarial, and Trabajo en ...</td>\n",
       "      <td>Full-time · Associate</td>\n",
       "    </tr>\n",
       "    <tr>\n",
       "      <th>2</th>\n",
       "      <td>https://www.linkedin.com/jobs/view/3591654262/...</td>\n",
       "      <td>Data Analyst</td>\n",
       "      <td>Vermut</td>\n",
       "      <td>About the job\\nAbout Vermut\\n\\nVermut is a com...</td>\n",
       "      <td>None</td>\n",
       "      <td>On-site</td>\n",
       "      <td>Análisis de datos, Analítica de datos, Capacid...</td>\n",
       "      <td>Full-time</td>\n",
       "    </tr>\n",
       "    <tr>\n",
       "      <th>3</th>\n",
       "      <td>https://www.linkedin.com/jobs/view/3510600361/...</td>\n",
       "      <td>Junior AI Researcher for Industry (Bilbao)</td>\n",
       "      <td>Vicomtech</td>\n",
       "      <td>About the job\\nVicomtech (www.vicomtech.org) i...</td>\n",
       "      <td>Aprendizaje automático, Kubernetes, Docker, Ci...</td>\n",
       "      <td>On-site</td>\n",
       "      <td>Inglés, Python, Comunicación, Análisis de dato...</td>\n",
       "      <td>Full-time · Mid-Senior level</td>\n",
       "    </tr>\n",
       "    <tr>\n",
       "      <th>4</th>\n",
       "      <td>https://www.linkedin.com/jobs/view/3590620667/...</td>\n",
       "      <td>ANALISTA DE DATOS (H/M/X)</td>\n",
       "      <td>Manpower</td>\n",
       "      <td>About the job\\nDesde Manpower buscamos Logisti...</td>\n",
       "      <td>Pedidos de compra, Facturación, and Intermedia...</td>\n",
       "      <td>On-site</td>\n",
       "      <td>Microsoft Office, Microsoft Excel, Resolución ...</td>\n",
       "      <td>Full-time</td>\n",
       "    </tr>\n",
       "    <tr>\n",
       "      <th>...</th>\n",
       "      <td>...</td>\n",
       "      <td>...</td>\n",
       "      <td>...</td>\n",
       "      <td>...</td>\n",
       "      <td>...</td>\n",
       "      <td>...</td>\n",
       "      <td>...</td>\n",
       "      <td>...</td>\n",
       "    </tr>\n",
       "    <tr>\n",
       "      <th>214</th>\n",
       "      <td>https://www.linkedin.com/jobs/view/3524208459/...</td>\n",
       "      <td>Business Analyst - Future Opportunities</td>\n",
       "      <td>Unisys</td>\n",
       "      <td>About the job\\nWe Believe in Better!\\n\\nWe are...</td>\n",
       "      <td>None</td>\n",
       "      <td>None</td>\n",
       "      <td>Necesidades empresariales, Análisis de negocio...</td>\n",
       "      <td>Full-time · Mid-Senior level</td>\n",
       "    </tr>\n",
       "    <tr>\n",
       "      <th>215</th>\n",
       "      <td>https://www.linkedin.com/jobs/view/3532606140/...</td>\n",
       "      <td>Web Analytics Manager</td>\n",
       "      <td>Merkle EMEA</td>\n",
       "      <td>About the job\\nCompany Description:\\n\\nIntrodu...</td>\n",
       "      <td>Google Tag Manager, Análisis web, Reflexión es...</td>\n",
       "      <td>On-site</td>\n",
       "      <td>Atención al detalle, Comunicación, and Analítica</td>\n",
       "      <td>Full-time · Mid-Senior level</td>\n",
       "    </tr>\n",
       "    <tr>\n",
       "      <th>216</th>\n",
       "      <td>https://www.linkedin.com/jobs/view/3462714653/...</td>\n",
       "      <td>Big Data Arch</td>\n",
       "      <td>Accenture España</td>\n",
       "      <td>About the job\\nDescription\\n\\nEsta es tu oport...</td>\n",
       "      <td>Big data, Ingeniería de datos , and Modelado d...</td>\n",
       "      <td>Hybrid</td>\n",
       "      <td>Analítica, Analítica de datos, Bases de datos,...</td>\n",
       "      <td>Full-time · Mid-Senior level</td>\n",
       "    </tr>\n",
       "    <tr>\n",
       "      <th>217</th>\n",
       "      <td>https://www.linkedin.com/jobs/view/3593355780/...</td>\n",
       "      <td>Mid Data Analyst/Engineer at Factorial HR</td>\n",
       "      <td>join.com</td>\n",
       "      <td>About the job\\nHi there 👋\\n\\nAs Factorial cont...</td>\n",
       "      <td>Resolución creativa de problemas, Hormigón, Am...</td>\n",
       "      <td>Remote</td>\n",
       "      <td>Comunicación and Analítica</td>\n",
       "      <td>Full-time · Entry level</td>\n",
       "    </tr>\n",
       "    <tr>\n",
       "      <th>218</th>\n",
       "      <td>https://www.linkedin.com/jobs/view/3468116600/...</td>\n",
       "      <td>Principal Biostatistician, home-based EMEA</td>\n",
       "      <td>Labcorp</td>\n",
       "      <td>About the job\\nAs an experienced Principal Bio...</td>\n",
       "      <td>Datasets, Statistical Analysis Plans, Randomiz...</td>\n",
       "      <td>Remote</td>\n",
       "      <td>Aptitudes de organización, Comunicación, and A...</td>\n",
       "      <td>Full-time · Mid-Senior level</td>\n",
       "    </tr>\n",
       "  </tbody>\n",
       "</table>\n",
       "<p>219 rows × 8 columns</p>\n",
       "</div>"
      ],
      "text/plain": [
       "                                              job_link  \\\n",
       "0    https://www.linkedin.com/jobs/view/3527504347/...   \n",
       "1    https://www.linkedin.com/jobs/view/3570080991/...   \n",
       "2    https://www.linkedin.com/jobs/view/3591654262/...   \n",
       "3    https://www.linkedin.com/jobs/view/3510600361/...   \n",
       "4    https://www.linkedin.com/jobs/view/3590620667/...   \n",
       "..                                                 ...   \n",
       "214  https://www.linkedin.com/jobs/view/3524208459/...   \n",
       "215  https://www.linkedin.com/jobs/view/3532606140/...   \n",
       "216  https://www.linkedin.com/jobs/view/3462714653/...   \n",
       "217  https://www.linkedin.com/jobs/view/3593355780/...   \n",
       "218  https://www.linkedin.com/jobs/view/3468116600/...   \n",
       "\n",
       "                                       position        company name  \\\n",
       "0                 Internet of Things Researcher           Vicomtech   \n",
       "1                Analista Business Intelligence  nettrim technology   \n",
       "2                                  Data Analyst              Vermut   \n",
       "3    Junior AI Researcher for Industry (Bilbao)           Vicomtech   \n",
       "4                     ANALISTA DE DATOS (H/M/X)            Manpower   \n",
       "..                                          ...                 ...   \n",
       "214     Business Analyst - Future Opportunities              Unisys   \n",
       "215                       Web Analytics Manager         Merkle EMEA   \n",
       "216                               Big Data Arch    Accenture España   \n",
       "217   Mid Data Analyst/Engineer at Factorial HR            join.com   \n",
       "218  Principal Biostatistician, home-based EMEA             Labcorp   \n",
       "\n",
       "                                       job description  \\\n",
       "0    About the job\\nVicomtech (www.vicomtech.org) i...   \n",
       "1    About the job\\nEn nettrim technology buscamos ...   \n",
       "2    About the job\\nAbout Vermut\\n\\nVermut is a com...   \n",
       "3    About the job\\nVicomtech (www.vicomtech.org) i...   \n",
       "4    About the job\\nDesde Manpower buscamos Logisti...   \n",
       "..                                                 ...   \n",
       "214  About the job\\nWe Believe in Better!\\n\\nWe are...   \n",
       "215  About the job\\nCompany Description:\\n\\nIntrodu...   \n",
       "216  About the job\\nDescription\\n\\nEsta es tu oport...   \n",
       "217  About the job\\nHi there 👋\\n\\nAs Factorial cont...   \n",
       "218  About the job\\nAs an experienced Principal Bio...   \n",
       "\n",
       "                                        skills_missing workplace_type  \\\n",
       "0    Kubernetes, Docker, Arquitectura de sistemas, ...        On-site   \n",
       "1    Almacenamiento de datos, Expresiones de anális...         Hybrid   \n",
       "2                                                 None        On-site   \n",
       "3    Aprendizaje automático, Kubernetes, Docker, Ci...        On-site   \n",
       "4    Pedidos de compra, Facturación, and Intermedia...        On-site   \n",
       "..                                                 ...            ...   \n",
       "214                                               None           None   \n",
       "215  Google Tag Manager, Análisis web, Reflexión es...        On-site   \n",
       "216  Big data, Ingeniería de datos , and Modelado d...         Hybrid   \n",
       "217  Resolución creativa de problemas, Hormigón, Am...         Remote   \n",
       "218  Datasets, Statistical Analysis Plans, Randomiz...         Remote   \n",
       "\n",
       "                                                skills  \\\n",
       "0      Python, Inglés, Comunicación, and Investigación   \n",
       "1    SQL, Inteligencia empresarial, and Trabajo en ...   \n",
       "2    Análisis de datos, Analítica de datos, Capacid...   \n",
       "3    Inglés, Python, Comunicación, Análisis de dato...   \n",
       "4    Microsoft Office, Microsoft Excel, Resolución ...   \n",
       "..                                                 ...   \n",
       "214  Necesidades empresariales, Análisis de negocio...   \n",
       "215   Atención al detalle, Comunicación, and Analítica   \n",
       "216  Analítica, Analítica de datos, Bases de datos,...   \n",
       "217                         Comunicación and Analítica   \n",
       "218  Aptitudes de organización, Comunicación, and A...   \n",
       "\n",
       "                         insights  \n",
       "0    Full-time · Mid-Senior level  \n",
       "1           Full-time · Associate  \n",
       "2                       Full-time  \n",
       "3    Full-time · Mid-Senior level  \n",
       "4                       Full-time  \n",
       "..                            ...  \n",
       "214  Full-time · Mid-Senior level  \n",
       "215  Full-time · Mid-Senior level  \n",
       "216  Full-time · Mid-Senior level  \n",
       "217       Full-time · Entry level  \n",
       "218  Full-time · Mid-Senior level  \n",
       "\n",
       "[219 rows x 8 columns]"
      ]
     },
     "execution_count": 34,
     "metadata": {},
     "output_type": "execute_result"
    }
   ],
   "source": [
    "fourth"
   ]
  },
  {
   "cell_type": "code",
   "execution_count": 35,
   "id": "a2e99c96",
   "metadata": {},
   "outputs": [],
   "source": [
    "fourth.to_csv('fourth.csv', index=False)"
   ]
  },
  {
   "cell_type": "code",
   "execution_count": null,
   "id": "3960476b",
   "metadata": {},
   "outputs": [],
   "source": []
  }
 ],
 "metadata": {
  "kernelspec": {
   "display_name": "Python 3 (ipykernel)",
   "language": "python",
   "name": "python3"
  },
  "language_info": {
   "codemirror_mode": {
    "name": "ipython",
    "version": 3
   },
   "file_extension": ".py",
   "mimetype": "text/x-python",
   "name": "python",
   "nbconvert_exporter": "python",
   "pygments_lexer": "ipython3",
   "version": "3.9.12"
  }
 },
 "nbformat": 4,
 "nbformat_minor": 5
}
