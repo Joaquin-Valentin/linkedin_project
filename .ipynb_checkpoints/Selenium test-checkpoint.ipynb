{
 "cells": [
  {
   "cell_type": "code",
   "execution_count": 1,
   "id": "cbdd40bb",
   "metadata": {},
   "outputs": [],
   "source": [
    "# Libraries\n",
    "import time\n",
    "import pandas as pd  \n",
    "\n",
    "# ------------- # \n",
    "\n",
    "import selenium\n",
    "from selenium import webdriver\n",
    "from selenium.webdriver.common.by import By\n",
    "from selenium.webdriver.support.ui import WebDriverWait\n",
    "from selenium.webdriver.support import expected_conditions as EC\n",
    "from selenium.webdriver.common.keys import Keys\n",
    "from selenium.webdriver.chrome.service import Service\n",
    "from selenium.webdriver.chrome.options import Options\n",
    "from webdriver_manager.chrome import ChromeDriverManager\n",
    "\n",
    "# library for interacting with the operating system\n",
    "import os\n",
    "\n",
    "#Library for saving password\n",
    "import getpass\n",
    "\n",
    "# library for directory location:\n",
    "\n",
    "import pathlib\n",
    "import os\n",
    "from os.path import join\n",
    "\n",
    "#Ignore warning -- Some methods are going to be deprecated and I didn't change all (mainly in the function scrapper)\n",
    "import warnings\n",
    "warnings.filterwarnings('ignore')\n",
    "\n",
    "import multiprocessing"
   ]
  },
  {
   "cell_type": "code",
   "execution_count": 2,
   "id": "7816a531",
   "metadata": {},
   "outputs": [],
   "source": [
    "driver = webdriver.Chrome(service=Service(ChromeDriverManager().install()))\n",
    "\n",
    "# Maximize Window\n",
    "driver.maximize_window() \n",
    "driver.minimize_window()  \n",
    "driver.maximize_window()  \n",
    "driver.switch_to.window(driver.current_window_handle)\n",
    "driver.implicitly_wait(10)\n",
    "\n",
    "# Enter to the site\n",
    "driver.get('https://www.linkedin.com/login');\n",
    "time.sleep(2)"
   ]
  },
  {
   "cell_type": "code",
   "execution_count": 3,
   "id": "4837f9cc",
   "metadata": {},
   "outputs": [
    {
     "name": "stdout",
     "output_type": "stream",
     "text": [
      "········\n"
     ]
    }
   ],
   "source": [
    "my_pass = getpass.getpass()"
   ]
  },
  {
   "cell_type": "code",
   "execution_count": 4,
   "id": "8cfc56b6",
   "metadata": {},
   "outputs": [],
   "source": [
    "# Accept cookies\n",
    "#driver.find_element(By.XPATH, \"/html/body/div/main/div[1]/div/section/div/div[2]/button[2]\").click()\n",
    "\n",
    "# User Credentials\n",
    "user_name = 'quino117@hotmail.com'\n",
    "password = my_pass\n",
    "driver.find_element(By.XPATH,'//*[@id=\"username\"]').send_keys(user_name)\n",
    "driver.find_element(By.XPATH,'//*[@id=\"password\"]').send_keys(password)\n",
    "time.sleep(1)\n",
    "\n",
    "# Login button\n",
    "driver.find_element(By.XPATH,'//*[@id=\"organic-div\"]/form/div[3]/button').click()\n",
    "driver.implicitly_wait(30)\n"
   ]
  },
  {
   "cell_type": "code",
   "execution_count": 5,
   "id": "f97e1118",
   "metadata": {},
   "outputs": [],
   "source": [
    "# Jobs page\n",
    "driver.find_element(By.XPATH,'//*[@id=\"global-nav\"]/div/nav/ul/li[3]/a').click()\n",
    "time.sleep(3)\n",
    "\n",
    "# Go to search results directly\n",
    "driver.get(\"https://www.linkedin.com/jobs/search/?geoId=105646813&keywords=data%20analyst&location=Spain\")\n",
    "time.sleep(1)"
   ]
  },
  {
   "cell_type": "code",
   "execution_count": 6,
   "id": "3d0da08b",
   "metadata": {
    "scrolled": true
   },
   "outputs": [
    {
     "name": "stdout",
     "output_type": "stream",
     "text": [
      "Links are being collected now.\n",
      "Collecting the links in the page: 1\n",
      "Collecting the links in the page: 2\n",
      "Found 50 links for job offers\n"
     ]
    }
   ],
   "source": [
    "# Get all links for these offers\n",
    "links = []\n",
    "\n",
    "# Navigate 2 pages\n",
    "print('Links are being collected now.')\n",
    "\n",
    "try: \n",
    "    for page in range(1,2):\n",
    "        time.sleep(2)\n",
    "        jobs_block = driver.find_element(By.CLASS_NAME,'jobs-search-results-list')\n",
    "        jobs_list= jobs_block.find_elements(By.CSS_SELECTOR, '.jobs-search-results__list-item')\n",
    "    \n",
    "        for job in jobs_list:\n",
    "            all_links = job.find_elements(By.TAG_NAME,'a')\n",
    "            for a in all_links:\n",
    "                if str(a.get_attribute('href')).startswith(\"https://www.linkedin.com/jobs/view\") and a.get_attribute('href') not in links: \n",
    "                    links.append(a.get_attribute('href'))\n",
    "                else:\n",
    "                    pass\n",
    "            # scroll down for each job element\n",
    "            driver.execute_script(\"arguments[0].scrollIntoView();\", job)\n",
    "        \n",
    "        print(f'Collecting the links in the page: {page-1}')\n",
    "        # go to next page:\n",
    "        driver.find_element(By.XPATH, f\"//button[@aria-label='Page {page}']\").click()\n",
    "        time.sleep(2)\n",
    "except:\n",
    "    pass\n",
    "print('Found ' + str(len(links)) + ' links for job offers')"
   ]
  },
  {
   "cell_type": "code",
   "execution_count": 7,
   "id": "77872d5f",
   "metadata": {},
   "outputs": [
    {
     "name": "stdout",
     "output_type": "stream",
     "text": [
      "Visiting the links and collecting information just started.\n"
     ]
    }
   ],
   "source": [
    "# Create empty lists to store information\n",
    "job_titles = []\n",
    "company_names = []\n",
    "description = []\n",
    "work_methods = []\n",
    "skills = []\n",
    "job_desc = []\n",
    "\n",
    "\n",
    "i = 0\n",
    "j = 1\n",
    "\n",
    "# Visit each link one by one to scrape the information\n",
    "print('Visiting the links and collecting information just started.')\n",
    "\n",
    "for link in links:\n",
    "    try:\n",
    "        driver.get(link)\n",
    "        i=i+1\n",
    "        time.sleep(1.15)\n",
    "        # Click See more.\n",
    "        driver.find_element(By.CLASS_NAME,\"artdeco-card__actions\").click()\n",
    "        time.sleep(1.15)\n",
    "    except Exception as e:\n",
    "        print(f\"Error while visiting link {link}: {e}\")\n",
    "        continue\n",
    "    \n",
    "    # Find the general information of the job offers\n",
    "    contents = driver.find_elements(By.CSS_SELECTOR,\"a[class^='disabled ember-view']\") \n",
    "    for content in contents:\n",
    "        try:\n",
    "            job_titles.append(content.find_element(By.CSS_SELECTOR,\"h2[class^='t-24 t-bold']\").text)\n",
    "            company_names.append(content.find_element(By.CSS_SELECTOR,\"span[class^='jobs-unified-top-card__company-name']\").text)\n",
    "            description.append(content.find_element(By.ID,\"job-details\").text)\n",
    "            work_methods.append(content.find_element(By.CSS_SELECTOR,\"span[class^='jobs-unified-top-card__workplace-type']\").text)\n",
    "            skills.append(content.find_element(By.CSS_SELECTOR,\".app-aware-link.job-details-how-you-match__skills-item-subtitle.t-14.overflow-hidden\").text)\n",
    "            print(f'Scraping the Job Offer {j} DONE.')\n",
    "            j+= 1\n",
    "            \n",
    "        except Exception as e:\n",
    "            print(f\"Error while scraping job offer {j}: {e}\")\n",
    "            continue\n",
    "        time.sleep(1.05)\n",
    "        \n",
    "        # Scraping the job description\n",
    "    \n",
    "        try:\n",
    "            job_description = driver.find_element(By.CLASS_NAME,'jobs-description__content')\n",
    "            job_text = job_description.find_element(By.CLASS_NAME,\"jobs-box__html-content\").text\n",
    "            job_desc.append(job_text)\n",
    "            print(f'Scraping the Job Offer {j} DONE.')\n",
    "            j+= 1\n",
    "        except Exception as e:\n",
    "            print(f\"Error while scraping job offer {j} description: {e}\")\n",
    "            continue      \n",
    "            \n",
    "            \n",
    "df = pd.DataFrame(list(zip(job_titles,company_names,\n",
    "                    description,work_methods,\n",
    "                    job_desc, skills)),\n",
    "                    columns =['job_title', 'company_name',\n",
    "                           'job_desc','work_method',\n",
    "                           'skills'])"
   ]
  },
  {
   "cell_type": "code",
   "execution_count": 8,
   "id": "65696dc9",
   "metadata": {},
   "outputs": [],
   "source": [
    "# Storing the data to csv file\n",
    "df.to_csv('job_offers.csv', index=False)\n",
    "\n",
    "# Output job descriptions to txt file\n",
    "with open('job_descriptions.txt', 'w',encoding=\"utf-8\") as f:\n",
    "    for line in job_desc:\n",
    "        f.write(line)\n",
    "        f.write('\\n')"
   ]
  },
  {
   "cell_type": "code",
   "execution_count": 11,
   "id": "9eb3af46",
   "metadata": {},
   "outputs": [
    {
     "data": {
      "text/plain": [
       "['https://www.linkedin.com/jobs/view/3576200980/?eBP=CwEAAAGHt5j-iKGB-XUMFkH-aQzNXrE8-lMLje4k9IuAoLqwdY2GGGu8rgs1AYmJo7VCDh7oEHLEb-WnBUaNDrfAIg44PWAmvDgMKtT248pZGQJqLiXKBeiiolGV5Qu5IEIKKgGSQqvPVWLGQq_jv6o3BN3qx77yXiAYQpWAXbTw_np3AFkwl--u10GMQ5zQkfYfRQ5Ur1SRMq9RMVtT6Joew-8-DxpM6UJx_WdGbpiMfgbenS4YGh8n52krmFQQX6AtPB-ucOXgaO0mEjV6xzPFcqJ3jwWCHcPbgqqQ7RYCjjuJx7PnTpSzpwnsio4LqFKULkayGqYQaD6HsmIAPSqCOOXUXMeFEy4t4H5rFrZCKbhn7oFeRiY0p-XM-wafhKbZ8KJCNJg&recommendedFlavor=COMPANY_RECRUIT&refId=ElV%2FDXzS4knMCbNwUEbuiQ%3D%3D&trackingId=eEjPOI%2FqXLvjOQbBouMwAA%3D%3D&trk=flagship3_search_srp_jobs',\n",
       " 'https://www.linkedin.com/jobs/view/3560899044/?eBP=CwEAAAGHt5j-iCEL_IrcdTl04geoNO7QLMKLJEmGa5DxCF1ABojQabXlZqpaHD9q_Q52ZVauGrn_z3q1Wo7Aj7jzVHIBwXg8wyTVYwch-7JWazO3TA-Ej7OTajnZIuLiCxceahGusxVJb6j4Cz5gxcx2PDe6bgQOsVWM8aMqy_-utIxf6ZoslkMZrLwwEwH4zWBMEGdGDBVQMY2cLdAyVQ-PVbGh-A7L9zQrTh4PLdH2wEJz9KeGCIn2wfcXIzlLyAnxmebIHZJABVp2X0Cv3VAXtDqTPoC0KIA0TAr0gmNF-QZTs4JDZI1BQUqKMzTiMSoltbTdjWfcNpqq3XSSoW483_gjDO2i8i4KtXDQVmSIzKZ17B5RV_dW1c6eG4SkUbHxcmxvUS0&recommendedFlavor=SCHOOL_RECRUIT&refId=ElV%2FDXzS4knMCbNwUEbuiQ%3D%3D&trackingId=3LyJdgL4pKdlFZP2QJTC9g%3D%3D&trk=flagship3_search_srp_jobs',\n",
       " 'https://www.linkedin.com/jobs/view/3570080991/?eBP=CwEAAAGHt5j-iAg1CJkC9Td-nIMU_D-bCRWMNiu6lidOEOpog4g7aLwtn4Bq8ZsEavlRAoynuRcpmzGGyHhYdYx4gajrR6RY0H9TARV5Mr6wno7k5sUO06XIgvf6jnfqPyGp2y9vtV2OAtK9U9jkLDfj5T3t4gPBEWrGJVujcZfbGxdGf-3wLYCfbqlJrTCAFJWjsQjdfP2kv3iMbkAAOOeDY9AuyGYv3pBDqZmpANkgcoVW4kI9spaS4P_FYkFUhcvpKPop1_cpY7-2EnacRkKyjuUwOafaMeDuf6KR-Fq2aFPm0xXhRmcMimEpmJK91IG3ZD4AE9qhrUfsI9QavPAYcv7BJFab4bzbN3K9_GK_rlz1JYcLowgRHq8mOiRB9lLP5Xozk28QP_HbLctK8K-MCYugblGXk0ZoYg&recommendedFlavor=ACTIVELY_HIRING_COMPANY&refId=ElV%2FDXzS4knMCbNwUEbuiQ%3D%3D&trackingId=E2yTGgUKNgseSAlRKpmI6Q%3D%3D&trk=flagship3_search_srp_jobs',\n",
       " 'https://www.linkedin.com/jobs/view/3566993518/?eBP=CwEAAAGHt5j-iDDtxlL5d9kwDFdvgDZErjcysy61qkj2EELJb8TX1oSeilrMzuPZtZU2jBvZSOVnL3B8MULXI17XRVwHyRErumL5BNlpHHIRukrJpbJxKekI-tqfc8nNF90gbWCiIRB8Xw9mwCYL40pwAhltKvF7o_NdZ1wuZsC3B2NHLVY1mTdoV_eFkU-sFGINnOTjVlHtWULBXvepBi1JlzOuAnXOk4JXYS0dKJgEm2sH78Qj-ZiaIdgAh8d5R5os1EUFK5MA_SLVgDHVE5HWB9MTFtnmBvz9KuPTnev89SFVYtSj-6kPCdXtEct-9rnVA8TR1RUnjNQkv5GOjjT_xKoWP6MwEmolKK3WZMuls5Yl-F5VeEXHi0K3TgKYz7own8ek3pLe0Q&recommendedFlavor=ACTIVELY_HIRING_COMPANY&refId=ElV%2FDXzS4knMCbNwUEbuiQ%3D%3D&trackingId=u%2FTjrvQg2NUYgxgyavS6cQ%3D%3D&trk=flagship3_search_srp_jobs',\n",
       " 'https://www.linkedin.com/jobs/view/3580891966/?eBP=JOB_SEARCH_ORGANIC&recommendedFlavor=SCHOOL_RECRUIT&refId=ElV%2FDXzS4knMCbNwUEbuiQ%3D%3D&trackingId=vj5JNsoyka5bQdaT1mr2ag%3D%3D&trk=flagship3_search_srp_jobs',\n",
       " 'https://www.linkedin.com/jobs/view/3573941722/?eBP=CwEAAAGHt5j-iEqNxCVWJqcdwC99oqJEPK-QMrQtCdgDEB8964V_8DuL1W68tCWpNQmhoI3Jkm5YfyzZAXT0G-sbXezzS9X44u4wiYh-1L70M1u3VRrQP_2itj7Y-WLowVuc_CPa-8O-oaNx2jrJ6zD5ACPrbWr8ok_9myA-I6r1F5Itd39CgboOzmqGlEXb3RKbwPxbxyfHwTKUNYqPYiQ8Q3p6oP1Fm58TU39sxVzKwyyXv1s7gGeCj6GaETSloCnBXTmWXbGwNMUVwW2yrqoh1EGYY28H11G8UplrVDGVM2Mwwg_oGQJSO8ikYnX4hrrLUiIzTYAYhJmmfFoDGNMJY8D_EfNfGB7-pyT6Tv6eV-0-H8yPlC88PVaKvmFc&recommendedFlavor=ACTIVELY_HIRING_COMPANY&refId=ElV%2FDXzS4knMCbNwUEbuiQ%3D%3D&trackingId=PQmZ2BbpoEZ%2FSZw2E0tmgg%3D%3D&trk=flagship3_search_srp_jobs',\n",
       " 'https://www.linkedin.com/jobs/view/3520230494/?eBP=CwEAAAGHt5j-iAErS8AfL9FAVj2GLCDTnBF3UJwmMbeSDCGrvDizjchQ_V2eL-oKKEq_p-5DicVpXWOa6ubCr1zw2KJUmW9SoDS949JSPAM0ZDYUKOjQ3qZnHLsfdPb6Jf231Eax-lkkRMD9N2Ezv3qHhHGiDxCSQBrc6pIWguN29ZZdT5YjPqXoQx2YlqrRmj089puic_3nrW8Fjr0nDcLzteCUxUBDae8SiDucTJfF0cxDi_rvkaNRuh1LIXyEB7TYvxX-Q9HFbCiwb2IbifXbzifV2cICKwueeXtfLI66qCduL3aIQvaVewQNX8Y3YqINFil8KUyE_rrzv6apIPax-7KzvylM-RI_AVYh50OkVLmwhCwAAXpxdQ64dghFo-rNCsYNIQc4Eg&recommendedFlavor=SCHOOL_RECRUIT&refId=ElV%2FDXzS4knMCbNwUEbuiQ%3D%3D&trackingId=Tgns3VfsZGQ9AWV6hAu%2BLA%3D%3D&trk=flagship3_search_srp_jobs',\n",
       " 'https://www.linkedin.com/jobs/view/3573814059/?eBP=CwEAAAGHt5j-iK58-vpKgVHP2OITEBO3ejiMn1CSBmDpzZvVruSt4W71CUufmvDKcfoIAPxyaKUl8-B82xLYfOzgKJA6h-0EzVPaDNkqJt_TYkm-Xfvc1zuYwvdJ9yqKMjDaO-BkLoI8t0VTdXWusnMXRqt9LXf1H3mWFbC9aukiwEcgKCiCysgunKtLn19HDHH9aXsUcjCdI5hPb2oiX1ZvJcos7AQxuP9GyLHEPP8X2oMDyI1LRfADWCdN48XbBjQOwv6rGR6WbBLoRubXJHMjfXGUY1DXRNGQEOQkDEJkuGDqMnTOjanWLIwcSu4E76wxp5q7WE1ScEYDnhPLknY-O1lpmmjY6F9tTav-mrVEYqohOvHdKt0xfFW8Gc4jNiCembtobOMNri0FK50oaSfxX555LP3OaKgpn7MD&recommendedFlavor=SCHOOL_RECRUIT&refId=ElV%2FDXzS4knMCbNwUEbuiQ%3D%3D&trackingId=BuAIDIbKUanuaCo8iRdyzw%3D%3D&trk=flagship3_search_srp_jobs',\n",
       " 'https://www.linkedin.com/jobs/view/3560238653/?eBP=CwEAAAGHt5j-iCElhp0gY9CG49b2NI0NRJIl4Rdby_dct4Rok9yUY39OPgaIKwCgpF4SKHiP7uwhpEXBSKQkZOHsYfwvmEp4BVUkGWEkMnXRI--bMez-ua79TxJMkOxU93c5__D6-ibweK9C_sBpw7GMcwHpv5nyQy6Xc3RnTtkKA5Km-vY74ntsHCLHxSvgEUjNvvPqfuenNL_2kbc1U0LryXppNaHICn6PezDbcf4jPEJ5jxRx-5BXO2-Ub1Hw_PyKw4pWVa3NIULPmXEM1mAEEuWgJoKrnf9_FR33oKyj6q9EnO5XbxSF1BY1PxyVGvCCdEY58kRVX6xbaEdAzx0vI-ombse6ZGeYXRlJ1TV_nNRJbzuLUbI5k9hLKjrauBJkmjYn&recommendedFlavor=SCHOOL_RECRUIT&refId=ElV%2FDXzS4knMCbNwUEbuiQ%3D%3D&trackingId=Cs3LJO%2B9YL6yKMmFQz5w6g%3D%3D&trk=flagship3_search_srp_jobs',\n",
       " 'https://www.linkedin.com/jobs/view/3509478070/?eBP=CwEAAAGHt5j-iPZI71ABGpAqpO4N_YmDoKbdb8Lp-T7FZA9gm_MpbNlHoU9NV_WwcO13PAmPbOa0NahdrKVb4jiRzSUyD8MxgYH6OKiUiT0lZ6LlT0w0GCYDPzvLGSmq3xL_O2dZXqfb9e_DXumhmAZ1_yfyd5npxHLbssGiPkBnDaa_iKK3vZTQT_LthIWdsTiVRQX52H5Zn-KEJbqmTLB3kh4jC-sUBLeU24CUsjbtazmN8lR3nDQBMgq4iKL9cnUX-TQUelyfKUP_2H1KR392MIlee8C7Pf4Ep23kK5l1D3dtK5wxCwSRT-ejNgKM1VW38zB_ZWxVD34Lipw0PjRIKRUAVrVgViivpbuviVdg3xYXCswf7FAHDvL3097uk5a-s2mGYQEvYg&recommendedFlavor=JOB_SEEKER_QUALIFIED&refId=ElV%2FDXzS4knMCbNwUEbuiQ%3D%3D&trackingId=Z8hb0xv8QU2reEymP4KBnw%3D%3D&trk=flagship3_search_srp_jobs',\n",
       " 'https://www.linkedin.com/jobs/view/3580889868/?eBP=JOB_SEARCH_ORGANIC&recommendedFlavor=ACTIVELY_HIRING_COMPANY&refId=ElV%2FDXzS4knMCbNwUEbuiQ%3D%3D&trackingId=OvnKx%2BKuPIJzZTbAwVD%2FPA%3D%3D&trk=flagship3_search_srp_jobs',\n",
       " 'https://www.linkedin.com/jobs/view/3566150728/?eBP=CwEAAAGHt5j-iEfkLmB588SYocWl9h4O9TKDadfvqXkAYuWCbJcrHQZOr5OYVa8SE0F5zif2FcGKSwEVczR47OZaky6boRm3RHSxJ7w-U_khJOwCQPm6hQ5uC_EYODcCMoKYYhUr9Nk5nE-_UZI-5_a42IjySY3Q0iiestzoVF8nhVFqiGddBeickiHcd0XzmJktlKTE9lMCvX_rRO-eLVheecuV_kcumrP8MtPj2Mv5PFensmOGJ15OglOIlUfT16hUILfQm-0oxgfE4V_XwumDhq4f8QeO0-F8lwsZBB0rBh1DNn1sJfTzzRm0iGqe5GyJk9EH-H-NWZVVfwF5d3YhpcULxjXIfYFsub4Jr2zAP8TOAkYYk99fK0ozlWfrujZh4g_7TQU&recommendedFlavor=COMPANY_RECRUIT&refId=ElV%2FDXzS4knMCbNwUEbuiQ%3D%3D&trackingId=sJAjdCH8EhLmdXijJXRytw%3D%3D&trk=flagship3_search_srp_jobs',\n",
       " 'https://www.linkedin.com/jobs/view/3550496758/?eBP=CwEAAAGHt5j-iBvr-OclGcDGFUsvzSTqYDVgG7oT_pwbeCfX4Db61bRkiR2PAV5WwBotB4j7kL_opWQ-6TYi1Idc4XCTHRyr2I0sl_b5phPA0gZaFpzgyZ-VkwjNelyPxqEm9ONEJHpykrfdJ-FEe-WBrgBaWhn4goiOofqrfu1AS_s_nSvWyyWsI-xBMKeLcOXgZW4XRHvExstfA2CGxEiV0xd--CoU0qZhlu3Sme5CoPtuu753UCuz960kkSWb07rImPlwbwb87EVIrQcVdrp3ZW3joUsW6ZOGjw28PB5p8gpXfwODo6l9lTwXoOE6JcZmIYtkRiH8wSKl_OEVRBbb0pjzoJDUZV_XyzBzS-x-EBBFqNLWFPJP5ao9J6xrfVdws_JYknBwNw&recommendedFlavor=JOB_SEEKER_QUALIFIED&refId=ElV%2FDXzS4knMCbNwUEbuiQ%3D%3D&trackingId=DBjBeuKJQyU5FcvPQWJQ0A%3D%3D&trk=flagship3_search_srp_jobs',\n",
       " 'https://www.linkedin.com/jobs/view/3541743716/?eBP=CwEAAAGHt5j-iC8x34k551j6Kzw5bAtFUYKCG_fLHgVRieOgYYDaZbGOgyXwh3jq9PyNzmbpcTAvIXGFaKSvddUJPlcKExp5M_LSVejdiB2z3YPfyuileNDpRkASyJ8qzaUCZZ0iPguHVklgANnUlg_QiXwKDBMFEPG0L0P-r0f8960HFOAftsUar2be00QJZ5WyIiKEYqSsIn66N9OfrM-IZeslyKB5B5PWKtOq0ZzHVG_tGh83IMCfMkMsIpf_L2AHPp2pb4EQVbU7fM4hK8JZGpMKhl8z64dZgDVN4iWpx1TFVA-wlTuqBCv7B1tpE-eqj64FXo948RciQoiFYL79BMBOrmsFKvr0LSSlLPwbmBD_oQCzSxz0ULdxE9TL-mFLYbclkec&recommendedFlavor=ACTIVELY_HIRING_COMPANY&refId=ElV%2FDXzS4knMCbNwUEbuiQ%3D%3D&trackingId=JhFa%2BKUCum2m900u6stPjg%3D%3D&trk=flagship3_search_srp_jobs',\n",
       " 'https://www.linkedin.com/jobs/view/3573796588/?eBP=CwEAAAGHt5j-iKd8h_8256SndLHVKG7ZGPmY1xviK-HN1WQXdSFlwGuPbgxfLeDff8cp4NwBRitRxDLjGS9lD_eZllSewlV2w-CkJqxBhfxIGGKbttdTDNoyf0cFf73NPoZJ6Y7K1-sHK3SgelUKIzys1_stVvcOpfZfqPJmzIlFz0192xd46skxHLqYzXP8K58Y3URuUx-0mjQhgSTfeIqkJDnAj8g0aLWIX7FOFLUjxMwo4qDFSYkrbyH6bF2uQnp5y4XJKdPguAXhMIaPCEu4QTfvU_rbZpubX5FKVfYlXdM_OW02suhGdsMpELrnJxvW6Rv_8vYJ9i35A_uKneQbDatMk0HoR8iwBl1f-Bd1DfCHrx7yqWUmoTom8ifsrkkut84qnDY0Ag&recommendedFlavor=SCHOOL_RECRUIT&refId=ElV%2FDXzS4knMCbNwUEbuiQ%3D%3D&trackingId=ze7%2BvHbqVhMILMAidvkqGA%3D%3D&trk=flagship3_search_srp_jobs',\n",
       " 'https://www.linkedin.com/jobs/view/3570533657/?eBP=CwEAAAGHt5j-ibYNgTSb9G5Nm1lCeedQ0ljqmXElL2p5CJ_xu2H4Lvobd25xz_psSyieri2cuvv0m_n8lj-i8tXlNm7q4NdtmE7n4AgayYvxvzxeBHSk6X9cXJfyf7IJGxn905PWP8AvrU1EzmF-YuBxttXbO84XD4Kti3lq77caGoEMgqMCNxrSKMTV2Xw__lCkTZgSrtHjoqRE9nHsICZxvCIrNfrvV3idtYz7KsvgpdxYRkfL3Eq-LOi7UELV0Z91kAGQoL0ALinywc6yRbezlhLyb5XpPXT-w-wZObUat7XLAch-52WCvzUD3J8rKRw5OrDORsFobbwkr0zbTneG5DFy-lZay3apaswmgHkN06nwlTDXZLi02Y1hAHYVKvjmDB7o8Xle8A&recommendedFlavor=ACTIVELY_HIRING_COMPANY&refId=ElV%2FDXzS4knMCbNwUEbuiQ%3D%3D&trackingId=9Oq5r%2Bumcn9lCWLqcBKfFg%3D%3D&trk=flagship3_search_srp_jobs',\n",
       " 'https://www.linkedin.com/jobs/view/3580889853/?eBP=JOB_SEARCH_ORGANIC&recommendedFlavor=SCHOOL_RECRUIT&refId=ElV%2FDXzS4knMCbNwUEbuiQ%3D%3D&trackingId=HxOUzYcRKsvXytq9kKDLgg%3D%3D&trk=flagship3_search_srp_jobs',\n",
       " 'https://www.linkedin.com/jobs/view/3569097789/?eBP=CwEAAAGHt5j-ic_7cPX57BF8_hJheA0R2t2r46tsjCbEcsSqxrFZ45YNsj58AZEbfmRlFTItuvDFt6r0fuTjzoM-dmrdGemMUbYShu5mcSwDcMT_gBQD2YWtzuiFBP7tjfGqsVO3inAIjQ46_ATQfnbKVwyGwx-gVIjFAtyxEo8PtBd6BSYMM0-YEXN0UGEvtwJ4pfIr16Fz3XLyitkZuHnLLd8KsqQlMzB4tlJjjoIBn_Hoo-ckkmrG5rpCM0qmw-Pk1kNFBe0Lgok_nG0J2Msi5DA-PgibNvXtYzjwnXAcfnfCf0n3i_xlQNOZxYZK14DgjP6-rBFpWN0M6Jex3FP6-35kc1CzDrj6o5G5Iw0ANdWu6LESyqe6rjw_dMXiDRwpc0BwW2c&recommendedFlavor=SKILL_ASSESSMENTS&refId=ElV%2FDXzS4knMCbNwUEbuiQ%3D%3D&trackingId=3hCB4E0shz9Lb4ypRRfdQQ%3D%3D&trk=flagship3_search_srp_jobs',\n",
       " 'https://www.linkedin.com/jobs/view/3551134510/?eBP=CwEAAAGHt5j-ialCYzMJ9Y8zL3HhCmSdhRDxAlcg8IHbnNUsxMfCp-zi0qzPTAOxfr2I3iX8SVqaDZYkDb75-lORlhF5a9sdta_PB9V2h0TT3Q_JO7f9hfYid1bvlSKd_fLBmcgZZ9JVQYcP6VFXUTzGVZcUe-9CGt6vYZxiEe_DDwkGmJ7yYvAsN7X78Ty-Eh1nsz2WipwJ4ouzSjccGSgo6CyCANhM-O2YeF7gBLD2Q-9-7LiBGnHzUZWX1BYP1PfZTGTXDKYFEkJFPLbGGjD3ROBcc0meb9PRfp3VhW-Y2n8msfTdxxRQMCpLhoEtjVX0N5_1fSo-47Y88ImMjNTsMFIfKdfV8UhUUQxk6MDEMtyLaKDmung_aaDObxP0Ot6vNG0hgDrU2Q&recommendedFlavor=SCHOOL_RECRUIT&refId=ElV%2FDXzS4knMCbNwUEbuiQ%3D%3D&trackingId=hKixXKOi7w68Ik0G4Oruqg%3D%3D&trk=flagship3_search_srp_jobs',\n",
       " 'https://www.linkedin.com/jobs/view/3480426752/?eBP=CwEAAAGHt5j-iaa2yhfyZPRrBab8HJCugEf_gV8wblxxJbqRUpbdk22LkTLZnej9nOU5U_8j-KTKsrh52zXBunfsfbWXyiogJyWHnbAeTR9Vv7mtM9vVsOtkay3h1WcelftpHKQH736QH9sPU9qR9TpSH7IJIsPL_JaYA2hD4Gkv2pbb564cFGAFjVDOSPbnvPREySNROsdnBHYn3m-V6Ud6uWLhAggB6-QBN48ZshbnrlhxHbfjPmDmLRWBUCuXhyWUfCg28T5W8jgoMkxw2-7a56AazaDMz3aATwRWfNncbQvCMVeyTAoI0U6kci9_LGDVA76oDkLjnMEhobMUUeb9FxLttBgesmDzp48j_DkL9LN3K6zcibspSWkLIw6aqpbHU0gBt3fsHw&recommendedFlavor=IN_NETWORK&refId=ElV%2FDXzS4knMCbNwUEbuiQ%3D%3D&trackingId=ykKUL%2BvoTlY1%2B6gO4LwvQQ%3D%3D&trk=flagship3_search_srp_jobs',\n",
       " 'https://www.linkedin.com/jobs/view/3563600931/?eBP=CwEAAAGHt5j-iYjXEKbFFRyiu0LKs5TLYlt4yXf2vMDS0ZG3O2tACDkIeVm9VGBb-EOlgR5eqzY7rcizVsiSeSKqMn182Bb4wjUcyHKhK3R1Znl0UlLMeBEVgwkOX9Camk8fb7PoIbi3P9YDFtXnkcs0AN1NCpGiyVnRS7-G5FHcND_PFZ6PIv4YfzOzjUrwNQaFNYTmYErHMCx572KIMUCHP_gbsjt7I7MieqdWS9FSRVRHtLBZqJd-KvYU8ZDtpMqjc8EknBjaaLicyNndbziRYO0QbGYh6gHXsLO2S_LS0N3-d6X1ef4EHfgdUQS3X4HDuWyspnml4HRvRPqLFj_aooDOQu0CZLotamoBZduY5KdDoWMZ20wsdO3svdNBltVzLk1u5unJEg&recommendedFlavor=ACTIVELY_HIRING_COMPANY&refId=ElV%2FDXzS4knMCbNwUEbuiQ%3D%3D&trackingId=OwfTVOgxcoelyssxo717GA%3D%3D&trk=flagship3_search_srp_jobs',\n",
       " 'https://www.linkedin.com/jobs/view/3491458324/?eBP=CwEAAAGHt5j-iaoYsDlvprZGHxcRPJGQojZmWKfMnCwZM2aYsGAObQPqTr524IZXPcX47MP5a3DMjinS2cqSEKPmt_39oe-7MlN1UAhvBlqU_6m9C9dYUZiTyM5taI5Yinjls66x_-31uU890CzUTxO-JsbKk70b2gXnljcEkngOxfqNfExLn8aGKNDaD6EOvJV2W2Sp0zAUAoxJqRfPwZpVehdUOgu8XgCQW52oZXjthqrQLYzy8xSSTymtiId7vZaxNqZxdE_t4w-UC7anLAvbS4GANO0gL6UjYLWDrcbeEhC_m8ar7KDOZOXwlwRLtJXfIczBhFcVM7s_Vgovgz_XRVXUw8UbP2U2IMJ7zt1b4Z1K08Zj0Q00Av3tjGvDBKs63_LkU7m0Ew&recommendedFlavor=IN_NETWORK&refId=ElV%2FDXzS4knMCbNwUEbuiQ%3D%3D&trackingId=JT6fLFhX8XJA3P1znF120g%3D%3D&trk=flagship3_search_srp_jobs',\n",
       " 'https://www.linkedin.com/jobs/view/3580892980/?eBP=JOB_SEARCH_ORGANIC&recommendedFlavor=SKILL_ASSESSMENTS&refId=ElV%2FDXzS4knMCbNwUEbuiQ%3D%3D&trackingId=Na1f%2BytFlT5RLvRwaGphWg%3D%3D&trk=flagship3_search_srp_jobs',\n",
       " 'https://www.linkedin.com/jobs/view/3573931559/?eBP=CwEAAAGHt5j-ieluObCWH4Uu3XfjbWoYatH5sdeNHSecwqAbroV2oQtgCt9-JcA8FXJMXqrf605aaudnFmc0Y4aH1E1XH1yq5QF4Q7L4fPXuzx8iaCeMJJOyueMoZovJLADwnkqtgpv7zvH00YGW6gSVKmMuW2ybGmHq0ndShw7xfBkLh0oUtFbrEsWHCwt5hHKik7WjHaT9XI1rqWlbKWrLm93INULtwpqNByYALajaJ7F1KiciOLlpARnCGC9gk9EvSqaPZIGtELMltgbrg-NXTH6YVuhlCnALl5tmbDGHRwMicQ3w_a1nRoWYRGzi4vR00H1dEq4dYxOaxrIjEjR1C_ijvSHHsSGgj7m1IN9HTdqlefE3LUbfz-AlmkbKuVCbJAylPUosHQ&recommendedFlavor=SCHOOL_RECRUIT&refId=ElV%2FDXzS4knMCbNwUEbuiQ%3D%3D&trackingId=ujAzCG6cuu6YNJJ2lEQNMA%3D%3D&trk=flagship3_search_srp_jobs',\n",
       " 'https://www.linkedin.com/jobs/view/3576950055/?eBP=CwEAAAGHt5j-iajOeH_Np-37p6waJH0h9TTqc3xGAo7EL93h6FeFUzR7NmD18xxQAUn9Hz9owY8kKVwGc_Ej9u22P41eamJqLhDPh0Hb1jDGs2VfODAzwCPFAoSjXjSZl1CnHDJtLaVw1BCPrA7Jvda3yy75RzIH2_ZGLZU1X1V4F3WEpHk0Ec82RwYEYkoEH0QgNDJbqpbA4E8ZnpIZNSIZLzsppmLCrov91mNNmtO_zt7eBfmm0JWhdobk6hR-oGEw1fcROLzE1CGuJSo9tR8DdZE3limhvgJHm-dwZwHNh1KXTUFnc-X5lSHXmSeSk0a6zKnmS7j02VX5plL591ATMj0zHMb4j6_NaDmQH9wqUK6OW3dpgW-MdvG1_G_6cFMNEZFlxpo&recommendedFlavor=ACTIVELY_HIRING_COMPANY&refId=ElV%2FDXzS4knMCbNwUEbuiQ%3D%3D&trackingId=e0krX%2FQ%2B3%2Fh8XCu8%2FL93gw%3D%3D&trk=flagship3_search_srp_jobs',\n",
       " 'https://www.linkedin.com/jobs/view/3567428047/?eBP=CwEAAAGHt5kDS5CAwEwLz7bHAcrEmeVd1Y22JOVKA1lBNIK8qaHCbN6wBJ9qE7ifU_kthHnE0CUIwcG_NcLZrXZlJ3SwIatwXQK5FG54bJn3DajxDWtm9MvcbLXro3gWLqXPryBZ4-FYFsigH_rBDSIyDRVVXYgOUYC1RCpJPjtwDfNY4BqId96-XPrIxuEYXriXRmcMRJtvGIuxPpRxto0I1WqS6jPTetu2AoffGLXjyShLDfkgSHYwQSbFtF7eXQrq0XMmG3ykHC9Cg9HLoOQEjVFKmNQc5j5snt_y_BQb-mzLz54OubKjitznRM8RWjGnxpDAenKPX94SW3QA-d0VkeqbNwVzJebtLDrp0yhGsBgNC6WHt1Uo2hHBrT9m&recommendedFlavor=ACTIVELY_HIRING_COMPANY&refId=yqxE039uZz%2FloeWIYX0ZGQ%3D%3D&trackingId=s%2FCiOZRlVRK0Q7Wt7k4Q7Q%3D%3D&trk=flagship3_search_srp_jobs',\n",
       " 'https://www.linkedin.com/jobs/view/3563240468/?eBP=CwEAAAGHt5kDS-jZwat-s3rDVRvh57FQofRM7UJFqMDc_p6smxOvsXDyeVUwNk0YZcA0P57GjCvbYQo-Pes_PMyVneWd4tsv3jyfKJMyH4mziWV6f6amCyZXPaVjgC7IBh8SfV6xTLWMY5laMam3UV9YPAfvlFwpxallzTlYVD7w5TtCuLWrHH0cSHCzaZljB_gCnRzzzVphVQNjlFQfgv4Q_IxsTiR5PRQNj8KnRkKdSAmfGtM9batlOjWvG-WhAT0zBNvfRa4-afEbKGkGAVONF4yN64VvHPGUP4HMXDXA6MCrqhbRGhdePS_mjCBhFfX2TE8CRyGEEqUAo6fJftvg5Zel3cjFkgygKPTxDAgIqGoFOfmWzbNdcYSPSoI5JFXGk4ZNqNcTKg&recommendedFlavor=SKILL_ASSESSMENTS&refId=yqxE039uZz%2FloeWIYX0ZGQ%3D%3D&trackingId=%2BCvv1Ak%2FoC%2FGoTWwUv787g%3D%3D&trk=flagship3_search_srp_jobs',\n",
       " 'https://www.linkedin.com/jobs/view/3574578063/?eBP=CwEAAAGHt5kDS34wm8JI0rLgigC0AlB-QwHhfVD6w1fanVw6tRwZYL0sRj5I2PHeIV9ZTMYBtkdK-Ixlze0A0h_ejuXmrOziHNFBSQvAsORqUXXSlJHZOyxEpes8484sKeokwUd23ylUdxryprLgnUSClb88DkoHRBtlGSBBUXcoUs3nbKNz-jjC9iim35u1sXYd8BH-cptey40NyzTt5wMLcRSRZ4wQq6f7zlMJecAtsEsaZxwKaVwSHLWDlttw5DL2-62NTe3ncxdS9DIhRwP6eTtjvqtax75ldoPGDUBTyrsSAaMnHg0BfxcaiGI-m-E7yy6f-u-Ous_aCjVAvmxFs_iyT-psU93sHZqCrfuAAdgEblPiP3_NrYSN_DgdwmzS-R-HNezsxQ&recommendedFlavor=IN_NETWORK&refId=yqxE039uZz%2FloeWIYX0ZGQ%3D%3D&trackingId=iOcna6IlMIzDPOHFbKYguA%3D%3D&trk=flagship3_search_srp_jobs',\n",
       " 'https://www.linkedin.com/jobs/view/3547880511/?eBP=CwEAAAGHt5kDS_zT0ni_7pJK0nejswveBmYpUsw7sFACJVj_qr89OPa9ghb-ZPAjvedds0v3xS503QAjmPjnEDlSL_CMZJ9yOdKKkV080-TMWBjiFv7IeheWaawInqtSL4FMQDxON1pxxkL_RURCmdetup-h9Dv5mACbiXpQkRE6hTOKgIiHlBuOKplECPicUt-o1GzMHgWuuHabLxEX9WAMx8fif1jx9UFRSQr6GE0p3_he3Pyial_CU8Yag2IP3K7X-kUy4xQhnLmbiqrDkpVMt2XVkDZq9PIxQcaiKDpwYb4GQ1LWLETXylk-fawxJedpFK5awXdPO4yhwOZ5Aet_nwcGhMEppPQgfoHP17OMRR9e3oHK_flWD8B_3tByJHa5R8wTyOAmrQ&recommendedFlavor=JOB_SEEKER_QUALIFIED&refId=yqxE039uZz%2FloeWIYX0ZGQ%3D%3D&trackingId=qGN7JuZ3h6yUHxFqjO7b6w%3D%3D&trk=flagship3_search_srp_jobs',\n",
       " 'https://www.linkedin.com/jobs/view/3572370022/?eBP=JOB_SEARCH_ORGANIC&recommendedFlavor=SCHOOL_RECRUIT&refId=yqxE039uZz%2FloeWIYX0ZGQ%3D%3D&trackingId=ym8ZD7KjnWX5Kt50wdkZsQ%3D%3D&trk=flagship3_search_srp_jobs',\n",
       " 'https://www.linkedin.com/jobs/view/3495643727/?eBP=CwEAAAGHt5kDS62o0Mk110wfqBNT3dzUiiAFE-E-JEtxql-MO5e1iU3EZF7murW4GfGs3y1rIkzxhTZSvnXoRaOVAMmvYP_A2u--_L4fzhJwm21HDW1YXk9V4TuJqszaEaHy8AmxuG88gP1rLym438UfyUQwlZ-jDSLdoJbs-kScCdOY-Qh5RokBQhT7lkh7ENQPXe9I_N0uZR64EFK8rG-CX2k5n_U2YoLeXSXpEumY0zcYC7r2Azl0PFcGPDnqZsmEZHHDJvZzXIm4c_V1gM0_0nxfBazDONCbT5kB7c6fkn_uRIIzbcrTxwNNvKRFbEIDQLCu9Q4bIYFs3LPpkMfw1GtH3vhWndNE2CNb5pF77XNiDRtqoO4iaeevBbjwZb4Re9uCdtaAXg&recommendedFlavor=JOB_SEEKER_QUALIFIED&refId=yqxE039uZz%2FloeWIYX0ZGQ%3D%3D&trackingId=Z1QFNsQf4cEcS4QNjEdR4Q%3D%3D&trk=flagship3_search_srp_jobs',\n",
       " 'https://www.linkedin.com/jobs/view/3341561994/?eBP=CwEAAAGHt5kDS8sgA6QnMuDb7n-XsAWdSdtDIcsUMc5w5Go2-8I05Ti8KVe1os3VTrYobcV2sPE393QA9kIBG6-xKmKoshPhmvooieujnvubdz5n12tVen2GmKPaPI2qWvZW6muRjXHXumHd2H90wEzol7XEXSrZJoE336-yuNkkHmQ3MPeg3SJMy3vxguBPCzrKETDjr29ddlaCeZTiZmBWc98aT6SD4iBapUDnRS9ie8owHiI0eXufVr-2JoTJLuFnwBXjHxAM-UlkcAd7d3924HrjrNa4rQui5HhHK7FXnlNIjqbNigociwpdxnp90dD0DU7dO20k9e5oWZ51PUuLllTrsHJdA9V8TXBiablzBQSCqwhh5QSiHEUV5bCJRM3NwuWa3iU8Qg&recommendedFlavor=IN_NETWORK&refId=yqxE039uZz%2FloeWIYX0ZGQ%3D%3D&trackingId=TfJeAuOpZaGOWiQNFqRjvg%3D%3D&trk=flagship3_search_srp_jobs',\n",
       " 'https://www.linkedin.com/jobs/view/3575589070/?eBP=CwEAAAGHt5kDS7QmC03SQwROTs-L_8CvcD-V5jybxEidDS6Ig2kJEu1Az1mhLnq94gAwu6BlIRxL8b-b5WAewMkTSOOVDIy1Q2w7zPeu8KwkKJTSYadEmnvjg2QMXZv5pG8yXy3Uh2u0VUHJYI8U7r73S5sVSjQmxVTA3q_IG86WvzyA_WWEKF-Kx0G7Nwsv7HMOxvilu9afSb73gQXgM7l0iBPpBDHmq9FKW4fbG83U9uKnPyoVy307l5-mqUTRJp2z71TxxFVRBWBD9U0H-emg_z34U31x8lj_-_dDqgGNV3NQ00HS3OZIHdwEAjj8zvC0admYxBfVCghYhQGiitKj48eJaqdQuNkjY_vDnwoSW5jXOUApMrSEZMlITVANCuYx_PVuzWU5kA&refId=yqxE039uZz%2FloeWIYX0ZGQ%3D%3D&trackingId=DZ%2Fj5UCnKpTL8BS9WQlp%2BQ%3D%3D&trk=flagship3_search_srp_jobs',\n",
       " 'https://www.linkedin.com/jobs/view/3566900586/?eBP=CwEAAAGHt5kDS210FRlCxorTpBrQVklDnZFfUj-KO3ucP_q0CUQVPvo0TuGjoY70ii-hLCGchb_ysgOOjthYfwev9Eq8rBWx4SyOoqcla0_8f0JQgqowqSTUKR-nOswNSEUiWqKsLR3JFLxinOl6YqRY2mQqJyHZ7c9Syz5I9xV0D66wiYkvD9wRKM52CjJn4fK01csEQRbfWYdEixvmDA1JXAwfbASY5q5S1B3uR48yaXG9kfbJto1qdNsNH0Aq-Yun_YOSkezJJ9rNXmE7fI-aNuF756hXIUbogEODbiPyg5YFPVvGKp8r8htJK2LC-wNEHarZkUw6Bibi1N-Ciy6ougVaQhWN44Ur6Yyie72QYMpBzM7S7OF89jboZJocdXYGdDyU224V-A&recommendedFlavor=SCHOOL_RECRUIT&refId=yqxE039uZz%2FloeWIYX0ZGQ%3D%3D&trackingId=SZzHWXfqLRAkxtC3JZBf4A%3D%3D&trk=flagship3_search_srp_jobs',\n",
       " 'https://www.linkedin.com/jobs/view/3528181097/?eBP=CwEAAAGHt5kDS5pzKb4WII4yxP0Pc2E4gcxMMiJ5v4mJw4Fi5nSAD41ifY7VFmS_OSeEJnGs3y9YmYB2bzlA8aRHSYHEivRcHyGgR9ycm-pKURXwP0CauJoqmkzX8bwyqAoX7yl63Iwaaypq22s1fSgBAwYyK9qFd4WmBKUhaRxtkHm4zqR2XGF9mn-EMIV17FtFiRcl3oPzEORnPTNCvNBVkp6beO_CHf8XFmWSQf2g0K44I-YHmYJLg2OaQxrlFBDv4vNEB89JNrj1zQQb-ar9WKFdseRWmPPZfXir9TGKw8O9O57iuMdu2dP_WpE5VJ0T8WhqKXxkm_L0QzDcJY0D4EwbOyGkXRzEnIG63nAW5mx8Ows-iyYAoGC0ZbGVxDtWROA0PxbtHw&recommendedFlavor=ACTIVELY_HIRING_COMPANY&refId=yqxE039uZz%2FloeWIYX0ZGQ%3D%3D&trackingId=Dq2N%2FAqTHdbEFi6hNB3JVA%3D%3D&trk=flagship3_search_srp_jobs',\n",
       " 'https://www.linkedin.com/jobs/view/3573800829/?eBP=JOB_SEARCH_ORGANIC&recommendedFlavor=ACTIVELY_HIRING_COMPANY&refId=yqxE039uZz%2FloeWIYX0ZGQ%3D%3D&trackingId=pu%2BMCRal69N9qCPQ8%2BkHPw%3D%3D&trk=flagship3_search_srp_jobs',\n",
       " 'https://www.linkedin.com/jobs/view/3522888027/?eBP=CwEAAAGHt5kDS1kAlPEnAEKLX5d1vjDDfiTFVjC2E64CXvatCGMeDuoImylL-3VdaIFlMeSfYzYTmLKh_OOdEsLyXLvE1TuUA-nFSD_4DgEhpEka2LjqSLWMLr3pzCvdisZs-Sps8axCG30lz6CaDLKNn3N87C1e-Goo_AU9Nv8xqX1-Es6dT2W4GKTksW7br1dfDjKn16ow-la-4jvQRECJLX0E4UA9XYxuOcuQUpJDMzkp-Qh9Ic86O0QTp22pQnw1dv4PrdVBHQtbZXsytByVtR_WldF72e8EnRA_ZNUdpS50zYc9k3rT2NYtuMfK0jQa4M181hXVXMdeDqLJJ7fzgU-UwSoSLUsKpQIY-mPlXloQm9IFuB8qg2uyOQPHK3g1tn4mEYJuiA&recommendedFlavor=SCHOOL_RECRUIT&refId=yqxE039uZz%2FloeWIYX0ZGQ%3D%3D&trackingId=1T7K6AYgGxcGHqLJmChmxA%3D%3D&trk=flagship3_search_srp_jobs',\n",
       " 'https://www.linkedin.com/jobs/view/3573876565/?eBP=CwEAAAGHt5kDSzT50iljk9fXSJJvSsj0KoKEF-qfq95ubBW9Z6RJnmnVmahCMI6Ftxp32L2bletrJZ9vQ0-QMm0HGK-S-gvaF_4ksNYxxmZuZ9Y9Xh-6aiRtp-LEc165lXbRwwn8T2kVJQUy0PQb-y2xROI7DnAcPwc2QIkpVxhjeiWv2vi6Q4xwrWYvZBmuME0hbV9MXB6KekHeNJvxKD7TpD6r2EgRwkwqBF5qXiWla6z3-oKXFybR_KYcxCOA0QdatuHzVhWgLn5z6OPGgK7pFgXfMtVRuvHkHTpFVympjKHYRbKETMZOSQjS83XNNVmo5lAw1kwnpkav0pV2aWacDg9_Nl6l8dG2hy0sRzn1J_uL1J8t-e3WcSGQ07lOCluQuPnCxVnjcA&recommendedFlavor=SKILL_ASSESSMENTS&refId=yqxE039uZz%2FloeWIYX0ZGQ%3D%3D&trackingId=AfPQXzM6JmlmI7CmbRwlHA%3D%3D&trk=flagship3_search_srp_jobs',\n",
       " 'https://www.linkedin.com/jobs/view/3572333391/?eBP=CwEAAAGHt5kDS0FQOEzS8XBTkaXdd7sKtZyI-71QQOHupruu_aonxm16B9Ku8uCuHf6AIATrJjruOAy4MzNtQgpBMvGWq81lno0yYBqeO6V2xRk504sae53rA7uvJ0UQGfx39mBEgImRv5S7eJrMeU0NhFmr7XULC0uqsaSps2jNuGs13T-YXOhW1M7Wsn-Phg49t4no01WVZ-rC3TyaQJXSeUkxgifl5g5vR5GEWZoTXkX02utBv4RlMEXkdFIatWZbFUt4QIvGITRsOfjuYCjZ0D78wTbCL1l5khf1fttTMtqnVNl0EUQ42RmE27-HCADRmNRL6IqnVKMw6wMkq7QEW81CQTt2xdBrBZFv8M9eyRqV5FTkn1lG682BKr0S&recommendedFlavor=ACTIVELY_HIRING_COMPANY&refId=yqxE039uZz%2FloeWIYX0ZGQ%3D%3D&trackingId=%2FcAOdpoqhTV%2BtThifQ515Q%3D%3D&trk=flagship3_search_srp_jobs',\n",
       " 'https://www.linkedin.com/jobs/view/3556370535/?eBP=CwEAAAGHt5kDS2NeyBKGDtWK4OXum5KDywk_PE6CAxLsM2tJtqITjlz-fuA2FI3qmlJlvukFJvQM26nJdP5fQmn1IA_HxehVQpmP6kZtoWtfEWyQbw7Q5T0dSSdADvUzkCeVjjEcAA6fywhkh9MRJ6yaiESznVfTUgcB3YlFWFIeZeccK2AQ0OunTFWYJEiJTIIWwx44nVdHvtfV_o0ONiSy8Ebr5k0YmGlmSgrh905-V4GAk2t72YUeHtrzP9jSv51_GMSWOPd9kgxU8wsPj1EydCXKbmuWQGQj-3IT2VZl_kXYOIx3XF6o7ecupKaui2xTxz6apbTVMFtg6dya0vJuihQKJzBO2PKRKmWFnayPZCvmAhIH8vgcSyvKmDNs&recommendedFlavor=SCHOOL_RECRUIT&refId=yqxE039uZz%2FloeWIYX0ZGQ%3D%3D&trackingId=Zo0oQ54ls%2BT3nxvSIQjBSA%3D%3D&trk=flagship3_search_srp_jobs',\n",
       " 'https://www.linkedin.com/jobs/view/3555230073/?eBP=CwEAAAGHt5kDSyQfZwos-GXujd92-Xk1IKOohX-MtdRX4Y0dOZ6jhQWwOCJ9oXus7BCyPCsy1TvVHxgEmdja3dbTUJJJrmgHGuY4OpDdWURiosele-wmfW5D0UV5AAM468Jp5eMYLZtzTxDh8hnwXKnGdSQcv7kT8galpOeqcFTGQcuhK4hWU5Qc_Qrm-ln_-MwikDYbHH_p9TgdDOAc0NZNAsRIz4cXYEOUOSAMCs4ayQq89l_xBFCjNsBevLU3FGKNTQRaN2urIJOx6NXiyL-Tl9huiVWZ4kyYjENzPWT0TWIpwMs9yUzSV4FnW9rEdeY5wP3h3CuvxwpphbK3kuMTomIKmDelPig2ONbtCcLQqjKdKYAz7B-0MNDUhuxMWcZFxts0bR90jw&recommendedFlavor=ACTIVELY_HIRING_COMPANY&refId=yqxE039uZz%2FloeWIYX0ZGQ%3D%3D&trackingId=F7pq7R9f1wIvI6S0BirwHQ%3D%3D&trk=flagship3_search_srp_jobs',\n",
       " 'https://www.linkedin.com/jobs/view/3569404024/?eBP=JOB_SEARCH_ORGANIC&recommendedFlavor=ACTIVELY_HIRING_COMPANY&refId=yqxE039uZz%2FloeWIYX0ZGQ%3D%3D&trackingId=nPgNS3HQMC2ovrrg4sBmOA%3D%3D&trk=flagship3_search_srp_jobs',\n",
       " 'https://www.linkedin.com/jobs/view/3570104788/?eBP=CwEAAAGHt5kDSzDw-AH_7JGdQ4wtDtm_3t65i_NR4A8qaDBKDFN6UwLWOFPIPNedHPcHO-q4efn7e56p9NsrvD7t10Y8mB-svSeg7GFexHhE12_2YW43cwsXaEDtkg1uGJue_h7fBbC1RWbL1GTI9i7lHScunt4U7ch8_5IsUb2LvJDImsD_ZD21iLeSAgghStK7YKDe00bBzRMhViZgvfvBfgNzJ1rPZ-7g0hEqAFEcNKd7ivB-9xtSTQ3sZWx-7eUoPF0dp3n5dIoMEsoxIyeytwQQewPjYk94757HvlCEzy7ZEmvT7D76oPtO5H3ZZHMs5aGDwW_P3eUXpJTm8AfApVQUubQ6saCYy-gKBg2z6VTmKy456enCWhAvIhxC7nXzH6DDIBl3cg&recommendedFlavor=PRE_SCREENING_QUESTIONS&refId=yqxE039uZz%2FloeWIYX0ZGQ%3D%3D&trackingId=TO%2BRLKX%2BrmF%2BtsIZSjR3pA%3D%3D&trk=flagship3_search_srp_jobs',\n",
       " 'https://www.linkedin.com/jobs/view/3575648348/?eBP=CwEAAAGHt5kDS1sLOJgzzhmDJiIWhVKRuk-BC0DNMxj1ITpynhn5LtytZrw74R91SpjeG4OXINJ2Z3xuDiv1REuLVntMK893sYueWCG15aBFDJDpCbL4m7ZimLaM0atYEaspczhoaSNhvxcfl5LGUebDDkk6_0L8RuxfaKWoalEsdDU4gdskxlyxIpiqw964E1PHk5wwk2eRjJy2XadqlkR3mrA_eO_uvrvzB5O6BnByYUbbtfws96AbGrU9IgOiQwGgMTUkIM3ULcO5hGbKF2C0YRAqPttrSCnzvtjN16xxHpZrZKgbbc_SMeiaUMMlBu9tvDfYGDOmYfbYRl-prf9vrF-0nL5F91kzMsYMGA3jt9UCnLSKeqQq7dz3k4-mPURWlkHjfH60xw&recommendedFlavor=SCHOOL_RECRUIT&refId=yqxE039uZz%2FloeWIYX0ZGQ%3D%3D&trackingId=i%2FZKog0YKVRMtV1RVz%2BY3A%3D%3D&trk=flagship3_search_srp_jobs',\n",
       " 'https://www.linkedin.com/jobs/view/3555221851/?eBP=CwEAAAGHt5kDSzkhe5kN8aUN4tRSswX47Kogmiby65BPzKGRphxPEBd0mwD5dG-ZkK32HOPs7c9Lwu1rCAAhSF_7WIjYNMUO7VQy4nz5bHdoIA1SuCn4v0L9m6SmUH1oigd-DLrG1zIuyXctNUnmZJkc1TuHvA0MFmcVQuAF2eMvQtyYNfZb89Uibru6MAHMa3ovrQyZbYv1yzEF2Z3FNJhYbc_gNpoxa8keeFltir6ffW6Qwk3zMYgihrlqnV1FjDBDDf6jXRQ7lQx0RKlzrTvXOOv0frCw7WIPlwN0aBAhlXQKg7C3SxXeFdY9UmCnUd94xkRwhVPcMbGA1S9CrTOeB9WYfUuQm6DbJnnl_WGS3NGi5jrrP8IHjcFFLoV47UnvwFRYP3tSCg&recommendedFlavor=ACTIVELY_HIRING_COMPANY&refId=yqxE039uZz%2FloeWIYX0ZGQ%3D%3D&trackingId=LN19cWShVHPdWQoK%2BI%2FJ4Q%3D%3D&trk=flagship3_search_srp_jobs',\n",
       " 'https://www.linkedin.com/jobs/view/3575591983/?eBP=CwEAAAGHt5kDS8Y1yFlJe5a1i4J081Usssno5BLb64YGvQXE-PiTlNaUkKlSOq5BfMjXAPntKFIegSmdbKp3eM3EB0yMfWebhCQ_EC-MzTZv_HtGLP0OpVT9CunbRiTQqZN8cS9uCql8YMiNqd7uH5cVwErgr_-09RU651Ks2PbUvTIO89G6A-I2f2_XFYn9-VWweKGtolsz-CoteEm36mYi4NYsCaup2h3UUuzNgk6G4o7x6lDuyIGOrFsOD32qho2Sntss6KMSqhDvL_EtTTNH_7WYFDYk_QgyqfvnKE92WEK7tSoFJHjmwSLeD0p09zuEz1XMDh8F2wrS_9lcg3pjK0jKCl7hXz4r6w&recommendedFlavor=ACTIVELY_HIRING_COMPANY&refId=yqxE039uZz%2FloeWIYX0ZGQ%3D%3D&trackingId=%2FIhKMRZutWMyCh7vn7CVtw%3D%3D&trk=flagship3_search_srp_jobs',\n",
       " 'https://www.linkedin.com/jobs/view/3548403140/?eBP=CwEAAAGHt5kDS7Mr8B0ryFRVy6j0BHmePFs4u9xdCml6tgIB5hPcz-6FMHexC_2trFgurL1GXW5MtLwkuuJM92W2AIDOOZTa5mW3_zix02_ZF0VRpf4gUNtz32nIz_P-1qAK4E07nAHbtVBNgRgolwel2VJMEqEkNDO3meANL0iV8oycAX9b9D6LqdzGyHTfsTLuT67IaDphYplP0LaYNEAgBPOyzQ_jj7e54pjwDgYAVCh6Tq_7c1gtiTJTutja_ZDkWw9O6O1OksWUXr74OBg5mCCuivbFD7LPz173PI4mPYQzzAo-R1C8-gk7wkxASiUYZeREWVpNu8iylwqHOBHIE-6rl97V2I2ZRw&recommendedFlavor=SCHOOL_RECRUIT&refId=yqxE039uZz%2FloeWIYX0ZGQ%3D%3D&trackingId=FJKvsnqP3tZky7e9YN4qLA%3D%3D&trk=flagship3_search_srp_jobs',\n",
       " 'https://www.linkedin.com/jobs/view/3579054216/?eBP=JOB_SEARCH_ORGANIC&recommendedFlavor=ACTIVELY_HIRING_COMPANY&refId=yqxE039uZz%2FloeWIYX0ZGQ%3D%3D&trackingId=8AfFA6DQlMJsLhAFJ6xhLw%3D%3D&trk=flagship3_search_srp_jobs',\n",
       " 'https://www.linkedin.com/jobs/view/3544823706/?eBP=CwEAAAGHt5kDS2p5LmRw1PR14wnQCvaPGPvP47BoFrV1_DEXMBqyAqx2nd3UAsTsUbY5R9oXWz3IjPYprygJu22LPe7M6SSzrQZPwANwxSwho40nD1ft0Hiso1MXuyrsHA928bwg48I5EmIfRmJvtxB2hIQrPZb8Tx5iu2PH9vIBlW94F0YdkNHbs_WUWof8FCr1zV-N26IQy3EvLmVV1z5lpbVf_509irm5S13ibTyGsgMWzEB-tRB6Z80UpNQh6V2QFYZEmuMFlYjJ2AgKXAAGcyXT5hYtT_ctgW8lmdYj-AvltLcUEyYu7SFNDc0MqD43BiSlljHAOy1C1XNaFs315H0YmNJh8qJT6LcS6L8thY48JDJI_Ky_GAYHGtJIshkXu33bVhcC-Q&recommendedFlavor=ACTIVELY_HIRING_COMPANY&refId=yqxE039uZz%2FloeWIYX0ZGQ%3D%3D&trackingId=Ki%2BWRu6rXaSp7qIaEwpzBg%3D%3D&trk=flagship3_search_srp_jobs',\n",
       " 'https://www.linkedin.com/jobs/view/3541726490/?eBP=CwEAAAGHt5kDS7G-ik4lN3aYrA-uxk7NGutNaBXUr8LluwiX3OgX2BX8VmxsecxVzIVhLo_gCZk4_Du15ofWjQWyAOjcRbYncpimSUA03jsAUsvXjF3ygpTE-NgIVEcPEXa2PcJBFJ1w-48b5wPLdFz8OsdRzHHLtVq8h8_pH7GjXZlrhvnVFqihqwwlIK26O8fNSoLkNXPM2McYO-lbtwI5Ccoy2SbvcYBh-SfXThTFReO-2ot5VYNrP6Kto4Bn9g-JppUhjPR8TBhJ6-DpxBAl3JaLJNKEytUcGV4ZSFg0BlyAIXNqhuHcK23CMvAwBUFKcEqMgi6yYOdMYDijQcjniv_hT9pdor4Ga3PjBz4xcTVbaWxGAEJhC_AW1NnDiZUfQ_CwqDB-fw&recommendedFlavor=ACTIVELY_HIRING_COMPANY&refId=yqxE039uZz%2FloeWIYX0ZGQ%3D%3D&trackingId=j4pzwFNigxcGB7wus%2FxRhg%3D%3D&trk=flagship3_search_srp_jobs']"
      ]
     },
     "execution_count": 11,
     "metadata": {},
     "output_type": "execute_result"
    }
   ],
   "source": [
    "links"
   ]
  },
  {
   "cell_type": "code",
   "execution_count": null,
   "id": "93fc2bf3",
   "metadata": {},
   "outputs": [],
   "source": []
  }
 ],
 "metadata": {
  "kernelspec": {
   "display_name": "Python 3 (ipykernel)",
   "language": "python",
   "name": "python3"
  },
  "language_info": {
   "codemirror_mode": {
    "name": "ipython",
    "version": 3
   },
   "file_extension": ".py",
   "mimetype": "text/x-python",
   "name": "python",
   "nbconvert_exporter": "python",
   "pygments_lexer": "ipython3",
   "version": "3.9.12"
  }
 },
 "nbformat": 4,
 "nbformat_minor": 5
}
