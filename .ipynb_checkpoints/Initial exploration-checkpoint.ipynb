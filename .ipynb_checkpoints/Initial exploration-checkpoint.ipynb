{
 "cells": [
  {
   "cell_type": "markdown",
   "id": "99d56918",
   "metadata": {},
   "source": [
    "# Importing libraries"
   ]
  },
  {
   "cell_type": "code",
   "execution_count": 1,
   "id": "3311fbba",
   "metadata": {},
   "outputs": [],
   "source": [
    "import pandas as pd\n",
    "import numpy as np"
   ]
  },
  {
   "cell_type": "markdown",
   "id": "00aa27af",
   "metadata": {},
   "source": [
    "# Reading file"
   ]
  },
  {
   "cell_type": "code",
   "execution_count": 2,
   "id": "6c70977e",
   "metadata": {},
   "outputs": [
    {
     "data": {
      "text/html": [
       "<div>\n",
       "<style scoped>\n",
       "    .dataframe tbody tr th:only-of-type {\n",
       "        vertical-align: middle;\n",
       "    }\n",
       "\n",
       "    .dataframe tbody tr th {\n",
       "        vertical-align: top;\n",
       "    }\n",
       "\n",
       "    .dataframe thead th {\n",
       "        text-align: right;\n",
       "    }\n",
       "</style>\n",
       "<table border=\"1\" class=\"dataframe\">\n",
       "  <thead>\n",
       "    <tr style=\"text-align: right;\">\n",
       "      <th></th>\n",
       "      <th>job_title</th>\n",
       "      <th>company_name</th>\n",
       "      <th>company_location</th>\n",
       "      <th>work_method</th>\n",
       "      <th>post_date</th>\n",
       "      <th>work_time</th>\n",
       "    </tr>\n",
       "  </thead>\n",
       "  <tbody>\n",
       "    <tr>\n",
       "      <th>0</th>\n",
       "      <td>Business Intelligence Analyst (Qlik Sense)</td>\n",
       "      <td>Fujitsu</td>\n",
       "      <td>Greater Madrid Metropolitan Area</td>\n",
       "      <td>Hybrid</td>\n",
       "      <td>2 weeks ago</td>\n",
       "      <td>Full-time · Associate</td>\n",
       "    </tr>\n",
       "    <tr>\n",
       "      <th>1</th>\n",
       "      <td>Analista de datos</td>\n",
       "      <td>TYPSA ESTADÍSTICA Y SERVICIOS (TEyS)</td>\n",
       "      <td>Madrid, Community of Madrid, Spain</td>\n",
       "      <td>Hybrid</td>\n",
       "      <td>1 week ago</td>\n",
       "      <td>Full-time · Associate</td>\n",
       "    </tr>\n",
       "    <tr>\n",
       "      <th>2</th>\n",
       "      <td>Power BI Developer</td>\n",
       "      <td>Redslim</td>\n",
       "      <td>Madrid, Community of Madrid, Spain</td>\n",
       "      <td>Hybrid</td>\n",
       "      <td>2 weeks ago</td>\n",
       "      <td>Full-time · Mid-Senior level</td>\n",
       "    </tr>\n",
       "    <tr>\n",
       "      <th>3</th>\n",
       "      <td>Business Intelligence Consultant</td>\n",
       "      <td>Bosonit</td>\n",
       "      <td>Greater Madrid Metropolitan Area</td>\n",
       "      <td>Hybrid</td>\n",
       "      <td>1 week ago</td>\n",
       "      <td>Full-time · Mid-Senior level</td>\n",
       "    </tr>\n",
       "    <tr>\n",
       "      <th>4</th>\n",
       "      <td>Business Intelligence Analyst</td>\n",
       "      <td>Zolva Spain</td>\n",
       "      <td>Greater Madrid Metropolitan Area</td>\n",
       "      <td>Hybrid</td>\n",
       "      <td>23 hours ago</td>\n",
       "      <td>Full-time</td>\n",
       "    </tr>\n",
       "  </tbody>\n",
       "</table>\n",
       "</div>"
      ],
      "text/plain": [
       "                                    job_title  \\\n",
       "0  Business Intelligence Analyst (Qlik Sense)   \n",
       "1                           Analista de datos   \n",
       "2                          Power BI Developer   \n",
       "3            Business Intelligence Consultant   \n",
       "4               Business Intelligence Analyst   \n",
       "\n",
       "                           company_name                    company_location  \\\n",
       "0                               Fujitsu    Greater Madrid Metropolitan Area   \n",
       "1  TYPSA ESTADÍSTICA Y SERVICIOS (TEyS)  Madrid, Community of Madrid, Spain   \n",
       "2                               Redslim  Madrid, Community of Madrid, Spain   \n",
       "3                               Bosonit    Greater Madrid Metropolitan Area   \n",
       "4                           Zolva Spain    Greater Madrid Metropolitan Area   \n",
       "\n",
       "  work_method     post_date                     work_time  \n",
       "0      Hybrid   2 weeks ago         Full-time · Associate  \n",
       "1      Hybrid    1 week ago         Full-time · Associate  \n",
       "2      Hybrid   2 weeks ago  Full-time · Mid-Senior level  \n",
       "3      Hybrid    1 week ago  Full-time · Mid-Senior level  \n",
       "4      Hybrid  23 hours ago                     Full-time  "
      ]
     },
     "execution_count": 2,
     "metadata": {},
     "output_type": "execute_result"
    }
   ],
   "source": [
    "jobs = pd.read_csv('job_offers.csv')\n",
    "jobs.head()"
   ]
  },
  {
   "cell_type": "code",
   "execution_count": 4,
   "id": "cf756715",
   "metadata": {},
   "outputs": [
    {
     "name": "stdout",
     "output_type": "stream",
     "text": [
      "<class 'pandas.core.frame.DataFrame'>\n",
      "RangeIndex: 271 entries, 0 to 270\n",
      "Data columns (total 6 columns):\n",
      " #   Column            Non-Null Count  Dtype \n",
      "---  ------            --------------  ----- \n",
      " 0   job_title         270 non-null    object\n",
      " 1   company_name      270 non-null    object\n",
      " 2   company_location  270 non-null    object\n",
      " 3   work_method       270 non-null    object\n",
      " 4   post_date         270 non-null    object\n",
      " 5   work_time         270 non-null    object\n",
      "dtypes: object(6)\n",
      "memory usage: 12.8+ KB\n"
     ]
    }
   ],
   "source": [
    "jobs.info()"
   ]
  },
  {
   "cell_type": "code",
   "execution_count": 5,
   "id": "d4107633",
   "metadata": {},
   "outputs": [
    {
     "data": {
      "text/plain": [
       "Full-time · Mid-Senior level    113\n",
       "Full-time · Associate            73\n",
       "Full-time · Entry level          38\n",
       "Full-time                        30\n",
       "Part-time · Entry level           7\n",
       "Part-time                         2\n",
       "Internship · Internship           2\n",
       "Internship                        2\n",
       "Full-time · Executive             1\n",
       "Contract · Associate              1\n",
       "Full-time · Internship            1\n",
       "Name: work_time, dtype: int64"
      ]
     },
     "execution_count": 5,
     "metadata": {},
     "output_type": "execute_result"
    }
   ],
   "source": [
    "jobs['work_time'].value_counts()"
   ]
  },
  {
   "cell_type": "code",
   "execution_count": 6,
   "id": "33054f9f",
   "metadata": {},
   "outputs": [
    {
     "data": {
      "text/plain": [
       "Hybrid     155\n",
       "Remote      58\n",
       "On-site     57\n",
       "Name: work_method, dtype: int64"
      ]
     },
     "execution_count": 6,
     "metadata": {},
     "output_type": "execute_result"
    }
   ],
   "source": [
    "jobs['work_method'].value_counts()"
   ]
  },
  {
   "cell_type": "code",
   "execution_count": null,
   "id": "eb6c488c",
   "metadata": {},
   "outputs": [],
   "source": []
  }
 ],
 "metadata": {
  "kernelspec": {
   "display_name": "Python 3 (ipykernel)",
   "language": "python",
   "name": "python3"
  },
  "language_info": {
   "codemirror_mode": {
    "name": "ipython",
    "version": 3
   },
   "file_extension": ".py",
   "mimetype": "text/x-python",
   "name": "python",
   "nbconvert_exporter": "python",
   "pygments_lexer": "ipython3",
   "version": "3.9.12"
  }
 },
 "nbformat": 4,
 "nbformat_minor": 5
}
