{
 "cells": [
  {
   "cell_type": "markdown",
   "id": "99d56918",
   "metadata": {},
   "source": [
    "# Importing libraries"
   ]
  },
  {
   "cell_type": "code",
   "execution_count": 28,
   "id": "3311fbba",
   "metadata": {},
   "outputs": [],
   "source": [
    "import pandas as pd\n",
    "import numpy as np"
   ]
  },
  {
   "cell_type": "markdown",
   "id": "00aa27af",
   "metadata": {},
   "source": [
    "# Reading file"
   ]
  },
  {
   "cell_type": "code",
   "execution_count": 3,
   "id": "6c70977e",
   "metadata": {},
   "outputs": [],
   "source": [
    "jobs_1 = pd.read_csv('first.csv')\n",
    "jobs_2 = pd.read_csv('second.csv')\n",
    "jobs_3 = pd.read_csv('third.csv')\n",
    "jobs_4 = pd.read_csv('fourth.csv')"
   ]
  },
  {
   "cell_type": "code",
   "execution_count": 29,
   "id": "de6eb327",
   "metadata": {},
   "outputs": [
    {
     "name": "stdout",
     "output_type": "stream",
     "text": [
      "<class 'pandas.core.frame.DataFrame'>\n",
      "RangeIndex: 593 entries, 0 to 592\n",
      "Data columns (total 9 columns):\n",
      " #   Column           Non-Null Count  Dtype \n",
      "---  ------           --------------  ----- \n",
      " 0   job_link         593 non-null    object\n",
      " 1   position         593 non-null    object\n",
      " 2   company name     591 non-null    object\n",
      " 3   job description  593 non-null    object\n",
      " 4   salary           17 non-null     object\n",
      " 5   workplace_type   531 non-null    object\n",
      " 6   skills           592 non-null    object\n",
      " 7   insights         593 non-null    object\n",
      " 8   skills_missing   254 non-null    object\n",
      "dtypes: object(9)\n",
      "memory usage: 41.8+ KB\n"
     ]
    }
   ],
   "source": [
    "jobs = pd.concat([jobs_1,jobs_2,jobs_3,jobs_4], ignore_index=True)\n",
    "jobs.info()"
   ]
  },
  {
   "cell_type": "code",
   "execution_count": 30,
   "id": "71c4d2af",
   "metadata": {
    "scrolled": true
   },
   "outputs": [
    {
     "data": {
      "text/plain": [
       "Comunicación and Capacidad de análisis                                              12\n",
       "Análisis de datos                                                                   11\n",
       "Comunicación                                                                         9\n",
       "Python                                                                               9\n",
       "Análisis de datos, Analítica de datos, Capacidad de análisis, Analítica, and SQL     8\n",
       "                                                                                    ..\n",
       "Trabajo en equipo, Inglés, Español, and Capacidad de análisis                        1\n",
       "Metodologías ágiles and Inglés                                                       1\n",
       "Bases de datos, Inglés, and SQL                                                      1\n",
       "Inteligencia empresarial, Comunicación, and Capacidad de análisis                    1\n",
       "Aptitudes de organización, Comunicación, and Atención al detalle                     1\n",
       "Name: skills, Length: 332, dtype: int64"
      ]
     },
     "execution_count": 30,
     "metadata": {},
     "output_type": "execute_result"
    }
   ],
   "source": [
    "jobs['skills'].value_counts()"
   ]
  },
  {
   "cell_type": "code",
   "execution_count": 31,
   "id": "eb6c488c",
   "metadata": {},
   "outputs": [],
   "source": [
    "jobs.to_csv('jobs.csv', index=False)"
   ]
  },
  {
   "cell_type": "code",
   "execution_count": 32,
   "id": "21b925c6",
   "metadata": {},
   "outputs": [
    {
     "data": {
      "text/plain": [
       "Data Analyst                                           58\n",
       "Data Scientist                                         21\n",
       "Business Analyst                                       18\n",
       "Data Engineer                                          14\n",
       "Associate - Data Research                               8\n",
       "                                                       ..\n",
       "Power BI                                                1\n",
       "Business Analyst - Relocation to Stockholm, Sweden      1\n",
       "Business Analyst / Product Owner (English Speakers)     1\n",
       "IT Business Analyst - Digital Manufacturing             1\n",
       "Principal Biostatistician, home-based EMEA              1\n",
       "Name: position, Length: 311, dtype: int64"
      ]
     },
     "execution_count": 32,
     "metadata": {},
     "output_type": "execute_result"
    }
   ],
   "source": [
    "jobs['position'].value_counts()"
   ]
  },
  {
   "cell_type": "code",
   "execution_count": 34,
   "id": "ad7942d9",
   "metadata": {},
   "outputs": [
    {
     "data": {
      "text/plain": [
       "Hybrid     335\n",
       "Remote     101\n",
       "On-site     95\n",
       "Name: workplace_type, dtype: int64"
      ]
     },
     "execution_count": 34,
     "metadata": {},
     "output_type": "execute_result"
    }
   ],
   "source": [
    "jobs['workplace_type'].value_counts()"
   ]
  },
  {
   "cell_type": "code",
   "execution_count": 39,
   "id": "08a8eac2",
   "metadata": {},
   "outputs": [
    {
     "data": {
      "text/plain": [
       "0                                                    NaN\n",
       "1                                                    NaN\n",
       "2                                                    NaN\n",
       "3                                                    NaN\n",
       "4                                                    NaN\n",
       "                             ...                        \n",
       "588                                                  NaN\n",
       "589    Google Tag Manager, Análisis web, Reflexión es...\n",
       "590    Big data, Ingeniería de datos , and Modelado d...\n",
       "591    Resolución creativa de problemas, Hormigón, Am...\n",
       "592    Datasets, Statistical Analysis Plans, Randomiz...\n",
       "Name: skills_missing, Length: 593, dtype: object"
      ]
     },
     "execution_count": 39,
     "metadata": {},
     "output_type": "execute_result"
    }
   ],
   "source": [
    "jobs['skills_missing']"
   ]
  },
  {
   "cell_type": "code",
   "execution_count": 41,
   "id": "4d65ea65",
   "metadata": {},
   "outputs": [],
   "source": [
    "skills_missing = jobs['skills_missing'].str.split(',', expand=True)"
   ]
  },
  {
   "cell_type": "code",
   "execution_count": 43,
   "id": "bdb67704",
   "metadata": {},
   "outputs": [],
   "source": [
    "skills_missing.dropna(how=\"all\", inplace=True)"
   ]
  },
  {
   "cell_type": "code",
   "execution_count": 56,
   "id": "62d10154",
   "metadata": {
    "scrolled": true
   },
   "outputs": [
    {
     "data": {
      "text/html": [
       "<div>\n",
       "<style scoped>\n",
       "    .dataframe tbody tr th:only-of-type {\n",
       "        vertical-align: middle;\n",
       "    }\n",
       "\n",
       "    .dataframe tbody tr th {\n",
       "        vertical-align: top;\n",
       "    }\n",
       "\n",
       "    .dataframe thead th {\n",
       "        text-align: right;\n",
       "    }\n",
       "</style>\n",
       "<table border=\"1\" class=\"dataframe\">\n",
       "  <thead>\n",
       "    <tr style=\"text-align: right;\">\n",
       "      <th></th>\n",
       "      <th>0</th>\n",
       "      <th>1</th>\n",
       "      <th>2</th>\n",
       "      <th>3</th>\n",
       "      <th>4</th>\n",
       "      <th>5</th>\n",
       "      <th>6</th>\n",
       "      <th>7</th>\n",
       "      <th>8</th>\n",
       "    </tr>\n",
       "  </thead>\n",
       "  <tbody>\n",
       "    <tr>\n",
       "      <th>140</th>\n",
       "      <td>Resolución creativa de problemas</td>\n",
       "      <td>Hormigón</td>\n",
       "      <td>Amazon Redshift</td>\n",
       "      <td>Data Operations</td>\n",
       "      <td>Development Operations</td>\n",
       "      <td>Políglota</td>\n",
       "      <td>Visualización</td>\n",
       "      <td>and Productos de datos</td>\n",
       "      <td>None</td>\n",
       "    </tr>\n",
       "    <tr>\n",
       "      <th>141</th>\n",
       "      <td>Medios de comunicación social</td>\n",
       "      <td>Gmail</td>\n",
       "      <td>Android</td>\n",
       "      <td>Productos de Google</td>\n",
       "      <td>iOS</td>\n",
       "      <td>Gallego</td>\n",
       "      <td>Facilidad de adaptación</td>\n",
       "      <td>and Aseguramiento de la calidad</td>\n",
       "      <td>None</td>\n",
       "    </tr>\n",
       "    <tr>\n",
       "      <th>143</th>\n",
       "      <td>Reflexión estratégica</td>\n",
       "      <td>Capacidad analítica</td>\n",
       "      <td>Artes gráficas</td>\n",
       "      <td>Graphing</td>\n",
       "      <td>and Grafos</td>\n",
       "      <td>None</td>\n",
       "      <td>None</td>\n",
       "      <td>None</td>\n",
       "      <td>None</td>\n",
       "    </tr>\n",
       "    <tr>\n",
       "      <th>144</th>\n",
       "      <td>Marketing automatizado and Marketing</td>\n",
       "      <td>None</td>\n",
       "      <td>None</td>\n",
       "      <td>None</td>\n",
       "      <td>None</td>\n",
       "      <td>None</td>\n",
       "      <td>None</td>\n",
       "      <td>None</td>\n",
       "      <td>None</td>\n",
       "    </tr>\n",
       "    <tr>\n",
       "      <th>152</th>\n",
       "      <td>Contraste de hipótesis</td>\n",
       "      <td>Looker (software)</td>\n",
       "      <td>Software estadístico</td>\n",
       "      <td>Estadística</td>\n",
       "      <td>Panel de control</td>\n",
       "      <td>Ciencia de datos</td>\n",
       "      <td>Datasets</td>\n",
       "      <td>and Análisis de clústers</td>\n",
       "      <td>None</td>\n",
       "    </tr>\n",
       "    <tr>\n",
       "      <th>...</th>\n",
       "      <td>...</td>\n",
       "      <td>...</td>\n",
       "      <td>...</td>\n",
       "      <td>...</td>\n",
       "      <td>...</td>\n",
       "      <td>...</td>\n",
       "      <td>...</td>\n",
       "      <td>...</td>\n",
       "      <td>...</td>\n",
       "    </tr>\n",
       "    <tr>\n",
       "      <th>587</th>\n",
       "      <td>Presentaciones</td>\n",
       "      <td>Análisis de productos</td>\n",
       "      <td>Ciencia de datos</td>\n",
       "      <td>Conocimientos comerciales</td>\n",
       "      <td>Análisis de negocio</td>\n",
       "      <td>and Gestión de productos</td>\n",
       "      <td>None</td>\n",
       "      <td>None</td>\n",
       "      <td>None</td>\n",
       "    </tr>\n",
       "    <tr>\n",
       "      <th>589</th>\n",
       "      <td>Google Tag Manager</td>\n",
       "      <td>Análisis web</td>\n",
       "      <td>Reflexión estratégica</td>\n",
       "      <td>Presentaciones</td>\n",
       "      <td>HTML</td>\n",
       "      <td>Google Analytics</td>\n",
       "      <td>and Análisis de marketing</td>\n",
       "      <td>None</td>\n",
       "      <td>None</td>\n",
       "    </tr>\n",
       "    <tr>\n",
       "      <th>590</th>\n",
       "      <td>Big data</td>\n",
       "      <td>Ingeniería de datos</td>\n",
       "      <td>and Modelado de datos</td>\n",
       "      <td>None</td>\n",
       "      <td>None</td>\n",
       "      <td>None</td>\n",
       "      <td>None</td>\n",
       "      <td>None</td>\n",
       "      <td>None</td>\n",
       "    </tr>\n",
       "    <tr>\n",
       "      <th>591</th>\n",
       "      <td>Resolución creativa de problemas</td>\n",
       "      <td>Hormigón</td>\n",
       "      <td>Amazon Redshift</td>\n",
       "      <td>Data Operations</td>\n",
       "      <td>Development Operations</td>\n",
       "      <td>Políglota</td>\n",
       "      <td>Visualización</td>\n",
       "      <td>and Productos de datos</td>\n",
       "      <td>None</td>\n",
       "    </tr>\n",
       "    <tr>\n",
       "      <th>592</th>\n",
       "      <td>Datasets</td>\n",
       "      <td>Statistical Analysis Plans</td>\n",
       "      <td>Randomization</td>\n",
       "      <td>Análisis estadístico</td>\n",
       "      <td>Presentación de datos</td>\n",
       "      <td>Conceptos de estadística</td>\n",
       "      <td>and Planificación de recursos</td>\n",
       "      <td>None</td>\n",
       "      <td>None</td>\n",
       "    </tr>\n",
       "  </tbody>\n",
       "</table>\n",
       "<p>254 rows × 9 columns</p>\n",
       "</div>"
      ],
      "text/plain": [
       "                                        0                            1  \\\n",
       "140      Resolución creativa de problemas                     Hormigón   \n",
       "141         Medios de comunicación social                        Gmail   \n",
       "143                 Reflexión estratégica          Capacidad analítica   \n",
       "144  Marketing automatizado and Marketing                         None   \n",
       "152                Contraste de hipótesis            Looker (software)   \n",
       "..                                    ...                          ...   \n",
       "587                        Presentaciones        Análisis de productos   \n",
       "589                    Google Tag Manager                 Análisis web   \n",
       "590                              Big data         Ingeniería de datos    \n",
       "591      Resolución creativa de problemas                     Hormigón   \n",
       "592                              Datasets   Statistical Analysis Plans   \n",
       "\n",
       "                          2                           3  \\\n",
       "140         Amazon Redshift             Data Operations   \n",
       "141                 Android         Productos de Google   \n",
       "143          Artes gráficas                    Graphing   \n",
       "144                    None                        None   \n",
       "152    Software estadístico                 Estadística   \n",
       "..                      ...                         ...   \n",
       "587        Ciencia de datos   Conocimientos comerciales   \n",
       "589   Reflexión estratégica              Presentaciones   \n",
       "590   and Modelado de datos                        None   \n",
       "591         Amazon Redshift             Data Operations   \n",
       "592           Randomization        Análisis estadístico   \n",
       "\n",
       "                           4                          5  \\\n",
       "140   Development Operations                  Políglota   \n",
       "141                      iOS                    Gallego   \n",
       "143               and Grafos                       None   \n",
       "144                     None                       None   \n",
       "152         Panel de control           Ciencia de datos   \n",
       "..                       ...                        ...   \n",
       "587      Análisis de negocio   and Gestión de productos   \n",
       "589                     HTML           Google Analytics   \n",
       "590                     None                       None   \n",
       "591   Development Operations                  Políglota   \n",
       "592    Presentación de datos   Conceptos de estadística   \n",
       "\n",
       "                                  6                                 7     8  \n",
       "140                   Visualización            and Productos de datos  None  \n",
       "141         Facilidad de adaptación   and Aseguramiento de la calidad  None  \n",
       "143                            None                              None  None  \n",
       "144                            None                              None  None  \n",
       "152                        Datasets          and Análisis de clústers  None  \n",
       "..                              ...                               ...   ...  \n",
       "587                            None                              None  None  \n",
       "589       and Análisis de marketing                              None  None  \n",
       "590                            None                              None  None  \n",
       "591                   Visualización            and Productos de datos  None  \n",
       "592   and Planificación de recursos                              None  None  \n",
       "\n",
       "[254 rows x 9 columns]"
      ]
     },
     "execution_count": 56,
     "metadata": {},
     "output_type": "execute_result"
    }
   ],
   "source": [
    "skills_missing"
   ]
  },
  {
   "cell_type": "code",
   "execution_count": 62,
   "id": "7e653739",
   "metadata": {},
   "outputs": [],
   "source": [
    "skills = skills_missing.melt()\n",
    "\n",
    "# drop any rows with missing values\n",
    "skills = skills.dropna()\n",
    "\n",
    "# reset the index\n",
    "skills = skills.reset_index(drop=True)\n"
   ]
  },
  {
   "cell_type": "code",
   "execution_count": 64,
   "id": "80f5ac79",
   "metadata": {},
   "outputs": [],
   "source": [
    "skills.drop('variable', inplace=True, axis=1)"
   ]
  },
  {
   "cell_type": "code",
   "execution_count": 68,
   "id": "75bd2dc8",
   "metadata": {},
   "outputs": [
    {
     "data": {
      "text/plain": [
       "0           Resolución creativa de problemas\n",
       "1              Medios de comunicación social\n",
       "2                      Reflexión estratégica\n",
       "3       Marketing automatizado and Marketing\n",
       "4                     Contraste de hipótesis\n",
       "                        ...                 \n",
       "1563                  and Gestión de activos\n",
       "1564                            and Italiano\n",
       "1565                            and Economía\n",
       "1566                      and Microservicios\n",
       "1567        and Lenguaje de consulta (query)\n",
       "Name: value, Length: 1568, dtype: object"
      ]
     },
     "execution_count": 68,
     "metadata": {},
     "output_type": "execute_result"
    }
   ],
   "source": [
    "skills['value']"
   ]
  },
  {
   "cell_type": "code",
   "execution_count": 69,
   "id": "cb3f9f1b",
   "metadata": {},
   "outputs": [
    {
     "name": "stdout",
     "output_type": "stream",
     "text": [
      "Counter({'ciencia de datos': 42, 'indicadores clave de desempeño': 34, 'presentaciones': 27, 'ingeniería de datos': 25, 'almacenamiento de datos': 24, 'análisis de negocio': 24, 'modelado de datos': 22, 'matemáticas': 19, 'necesidades empresariales': 19, 'google analytics': 18, 'visualización': 17, 'estadística': 16, 'procesamiento de lenguaje natural': 14, 'ciencias de la computación': 13, 'panel de control': 13, 'análisis predictivo': 13, 'google bigquery': 12, 'conocimientos comerciales': 12, 'big data': 12, 'aprendizaje profundo': 12, 'and comunicación escrita': 12, 'análisis web': 11, 'comunicación escrita': 11, 'preparación de casos empresariales': 10, 'comunicación oral': 10, 'and estadística': 10, 'medios de comunicación social': 8, 'lenguajes de programación': 8, 'pruebas a/b': 7, 'análisis ad hoc': 7, 'calidad de datos': 7, 'marketing digital': 7, 'project plus': 7, 'integración de datos': 7, 'procesos de negocio': 7, 'control de versiones': 7, 'programación en c': 7, 'obtención de requisitos': 7, 'comercio electrónico': 7, 'iniciativa': 6, 'investigación de datos': 6, 'modelo de datos': 6, 'aseguramiento de la calidad': 6, 'historias de usuarios': 6, 'banca de inversión': 6, 'qlikview': 6, 'aptitudes para hacer presentaciones': 6, 'minería de datos': 6, 'recogida de datos': 6, 'scala': 6, 'análisis de requisitos': 6, 'pruebas de aceptación del usuario': 6, 'tecnología de publicación de anuncios': 6, 'microsoft azure': 5, 'apache spark': 5, 'java': 5, 'pensamiento crítico': 5, 'enlace con el cliente': 5, 'snowflake': 5, 'revisión del balance general': 5, 'gobierno de datos': 5, 'presentación de datos': 5, 'ley sarbanes-oxley': 5, 'optimización': 5, 'especificaciones funcionales': 5, 'instrumentos financieros': 5, 'and finanzas': 5, 'talend': 4, 'adobe analytics': 4, 'r (lenguaje de programación)': 4, 'google tag manager': 4, 'indicadores clave': 4, 'inglés hablado': 4, 'sql server integration services (ssis)': 4, 'contabilidad exigida por ley': 4, 'microsoft powerpoint': 4, 'análisis de mercados': 4, 'datasets': 4, 'finanzas': 4, 'modelos dimensionales': 4, 'establecer prioridades del trabajo': 4, 'programación': 4, 'medición del rendimiento': 4, 'reconocimiento de patrones': 4, 'and formación': 4, 'relación con el cliente': 4, 'and big data': 4, 'organización de investigación por contrato (cro)': 4, 'and análisis de datos estadísticos': 4, 'and industria de la energía': 4, 'análisis de datos estadísticos': 4, 'resolución creativa de problemas': 3, 'marketing automatizado and marketing': 3, 'macro': 3, 'amazon redshift': 3, 'análisis financiero': 3, 'knime': 3, 'alimentación y bebidas': 3, 'postgresql': 3, 'amazon web services (aws)': 3, 'aprendizaje automático': 3, 'expresiones de análisis de datos (dax)': 3, 'visual basic for applications (vba)': 3, 'danés': 3, 'hormigón': 3, 'gmail': 3, 'investigación online': 3, 'gestión de partes interesadas': 3, 'arquitectura de datos': 3, 'análisis de rentabilidad': 3, 'strat': 3, 'hojas de cálculo de google': 3, 'pronóstico': 3, 'hive': 3, 'android': 3, 'and base de datos relacional': 3, 'rendimiento financiero': 3, 'aseguramiento': 3, 'and pensamiento crítico': 3, 'automatización robótica de procesos': 3, 'oracle database': 3, 'skilled multi-tasker': 3, 'google data studio': 3, 'economía': 3, 'and lenguajes de programación': 3, 'capacidad de respuesta rápida': 3, 'and ciencias de la computación': 3, 'productos de google': 3, 'seguimiento': 3, 'fibre': 3, 'compromiso': 3, 'root cause': 3, 'recaudaciones': 3, 'and ciencia de datos': 3, 'ios': 3, 'google cloud': 3, 'empresas': 3, 'estados financieros': 3, 'and análisis de negocio': 3, 'dwh': 3, 'gallego': 3, 'and visualización': 3, 'sistemas de alimentación ininterrumpida': 3, 'sistemas transaccionales': 3, 'facilidad de adaptación': 3, 'and modelo de datos': 3, 'and requerimientos no funcionales': 3, 'and procesos de negocio': 3, 'and aseguramiento de la calidad': 3, 'and indicadores clave de desempeño': 3, 'and ambiance': 3, 'reflexión estratégica': 2, 'informes ad hoc': 2, 'análisis de lagunas': 2, 'documentación': 2, 'riesgo de crédito': 2, 'analysis reports': 2, 'hbase': 2, 'noruego': 2, 'airflow': 2, 'análisis empresarial de ti': 2, 'liderazgo de equipos multidisciplinarios': 2, 'datos maestros': 2, 'microstrategy': 2, 'soporte de aplicaciones': 2, 'kubernetes': 2, 'cultural affairs': 2, 'gestión de trabajadores': 2, 'nivel de servicio de contratos': 2, 'requisitos funcionales': 2, 'xml': 2, 'capacidad analítica': 2, 'valores (finanzas)': 2, 'hotjar': 2, 'visual basic': 2, 'contracargos': 2, 'interpretación de datos': 2, 'sap bw': 2, 'mapreduce': 2, 'sueco': 2, 'datos cuantitativos': 2, 'colaboración entre equipos': 2, 'cocreación': 2, 'docker': 2, 'jira': 2, 'banca por internet': 2, 'resolución de incidencias': 2, 'privacidad de datos': 2, 'análisis estadístico': 2, 'base de datos relacional': 2, 'diseño de bases de datos': 2, 'alteryx': 2, 'and aptitudes para hacer presentaciones': 2, 'sas': 2, 'diligencia debida': 2, 'qlik sense': 2, 'inteligencia artificial': 2, 'powercenter': 2, 'motores de búsqueda': 2, 'algoritmos': 2, 'gestión de datos': 2, 'sql server analysis services (ssas)': 2, 'html': 2, 'and modelado de datos': 2, 'data operations': 2, 'and gestión empresarial': 2, 'and gestión de datos': 2, 'and noruego': 2, 'interoperabilidad': 2, 'linux': 2, 'desarrollo de innovación': 2, 'nosql': 2, 'capacidad de decisión': 2, 'soporte técnico': 2, 'información de clientes': 2, 'razonamiento': 2, 'pl/sql': 2, 'sistemas operativos': 2, 'documentación de programas informáticos': 2, 'development operations': 2, 'and panel de control': 2, 'servicios de gestión de la riqueza': 2, 'análisis de marketing': 2, 'and evaluación de negocios': 2, 'gestión de procesos de negocio': 2, 'marketing': 2, 'and datasets': 2, 'computación en la nube': 2, 'tecnología de la información': 2, 'and global reporting': 2, 'canalizaciones de datos': 2, 'and relevance': 2, 'and creación de valor': 2, 'comunicación interpersonal': 2, 'políglota': 2, 'capital de inversión': 2, 'mantenimiento del sistema': 2, 'and requisitos funcionales': 2, 'suscripción de créditos': 2, 'and canalizaciones de datos': 2, 'and computación en la nube': 2, 'idiomas europeos': 2, 'integración continua': 2, 'decisioning': 2, 'and pruebas de aceptación del usuario': 2, 'and mejora de procesos de negocio': 2, 'and extracción de datos': 2, 'and optimización de las redes sociales (smo)': 2, 'and c++': 2, 'investigaciones de fraude': 2, 'holandés': 2, 'and microsoft azure': 2, 'and iniciativa': 2, 'and análisis de marketing': 2, 'and productos de datos': 2, 'and análisis de clústers': 2, 'and rentabilidad del cliente': 2, 'portugués': 2, 'and matemáticas': 2, 'and pricing optimization': 2, 'and gestión de activos': 2, 'and economía': 2, 'and italiano': 2, 'contraste de hipótesis': 1, 'tomcat': 1, 'snowflake and estadística': 1, 'alm': 1, 'microsoft powerapps': 1, 'multitarea': 1, 'visión estratégica': 1, 'centros de contacto': 1, 'big-picture thinking': 1, 'productos sap': 1, 'programación estadística': 1, 'prevención de pérdida de datos (dlp)': 1, 'investigación de mercado': 1, 'functionality': 1, 'blue prism': 1, 'pentaho': 1, 'amazon simple notification service (sns)': 1, 'conoce a tu cliente (kyc)': 1, 'pedidos de compra': 1, 'industria de los videojuegos': 1, 'calificación del riesgo crediticio': 1, 'coaching empresarial': 1, 'information processing': 1, 'windows': 1, 'control de gestión': 1, 'sistema de gestión de información de laboratorio (lims)': 1, 'comunicación interpersonal and redacción': 1, 'visualización and elaboración de informes financieros': 1, 'web services description language': 1, 'pruebas ad hoc': 1, 'pensamiento lateral': 1, 'planes de proyecto': 1, 'git': 1, 'catálogo de servicios': 1, 'hojas de estilos en cascada (css)': 1, 'comunicación visual': 1, 'elaboración de modelos financieros': 1, 'storytelling': 1, 'margen bruto': 1, 'modelado de amenazas': 1, 'coreano': 1, 'factoring': 1, 'preparación de datos': 1, 'apache kafka': 1, 'untangle': 1, 'servicio de asistencia técnica': 1, 'sap bpc': 1, 'looker (software)': 1, 'manipulación de datos': 1, 'informática': 1, 'gestión de activos de software': 1, 'gestión de relaciones con clientes (crm)': 1, 'tecnologías avaya': 1, 'dinámica': 1, 'tensorflow': 1, 'aprendizaje': 1, 'desarrollo de modelos': 1, 'integración de equipos': 1, 'splunk': 1, 'prevención de pérdidas': 1, 'scripts de pruebas': 1, 'presto': 1, 'prpc de pegasystems': 1, 'language skills': 1, 'servicios de datos': 1, 'apache druid': 1, 'resolución de cuestiones': 1, 'portfolium': 1, 'facturación': 1, 'indices': 1, 'procesamiento de datos': 1, 'análisis de pérdidas y ganancias': 1, 'portables': 1, 'cuadro de mando integral': 1, 'ingeniería industrial': 1, 'operaciones de venta': 1, 'sap businessobjects': 1, 'matemáticas aplicadas': 1, 'procesamiento analítico en línea (olap)': 1, 'javascript': 1, 'call quality': 1, 'terapia dialéctica conductual': 1, 'elaboración de presupuestos anuales': 1, 'japonés': 1, 'diseño de software': 1, 'riesgos de seguros': 1, 'capacidad de razonamiento': 1, 'sqoop': 1, 'análisis de productos': 1, 'statistical analysis plans': 1, 'artes gráficas': 1, 'software estadístico': 1, 'microsoft sql server': 1, 'hibernate': 1, 'consultoría': 1, 'office 365': 1, 'merchandising': 1, 'control de gastos': 1, 'fórmulas': 1, 'mxnet': 1, 'iniciativas estratégicas': 1, 'modelos matemáticos': 1, 'análisis cuantitativo': 1, 'and snowflake': 1, 'pasarelas de pago': 1, 'sap analytics cloud': 1, 'bash': 1, 'propiedad intelectual': 1, 'inglés comercial': 1, 'marketing directo': 1, 'documentación técnica': 1, 'microeconomía': 1, 'análisis de rendimiento de software': 1, 'programas de desarrollo': 1, 'academic background': 1, 'treatment': 1, 'fútbol americano': 1, 'gestión de proveedores': 1, 'herramientas etl': 1, 'arquitectura de sistemas': 1, 'and intermediación': 1, 'b2c': 1, 'operaciones': 1, 'diseño experimental': 1, 'control de calidad': 1, 'and software estadístico': 1, 'ofimática': 1, 'pasión por el trabajo': 1, 'manejo de información confidencial': 1, 'planificación laboral': 1, 'cotizaciones de precios': 1, 'directivas de grupo': 1, 'and language skills': 1, 'powerbuilder': 1, 'ingeniería informática': 1, 'and spss': 1, 'plan de ventas': 1, 'proyectos de desarrollo': 1, 'control del cumplimiento': 1, 'executive visibility': 1, 'establishing processes': 1, 'conocimientos informáticos': 1, 'c#': 1, 'marketing orientado al comprador': 1, 'razonamiento lógico': 1, 'sql de azure': 1, 'cuentas clave': 1, 'randomization': 1, 'graphing': 1, 'gestión de productos': 1, 'jboss application server': 1, 'and microsoft sql server': 1, 'mentoría': 1, 'scaled agile framework (safe)': 1, 'asistencia para hardware ti': 1, 'and amazon redshift': 1, 'rentabilidad': 1, 'pytorch': 1, 'salesforce.com': 1, 'and implementación de kpi': 1, 'análisis de clústers': 1, 'modelos predictivos': 1, 'modelado de riesgos': 1, 'extracción de datos': 1, 'desarrollo web back end': 1, 'informes': 1, 'prestaciones laborales': 1, 'control de la información': 1, 'athena health': 1, 'technical liaison': 1, 'identificación de tendencias': 1, 'equipos internacionales': 1, 'investigación cualitativa': 1, 'grafos': 1, 'industria deportiva': 1, 'gestión de solicitudes': 1, 'data tracking': 1, 'and buenas prácticas de fabricación': 1, 'integridad de la información': 1, 'and expresiones multidimensionales': 1, 'and administración logística': 1, 'bioinformática': 1, 'compensation': 1, 'iex': 1, 'and skilled multi-tasker': 1, 'pruebas del sistema': 1, 'x-value adjustment (xva)': 1, 'pruebas funcionales': 1, 'atención en el cliente': 1, 'eficiencia operativa': 1, 'conferencia web': 1, 'and obtención de requisitos': 1, 'and azure devops': 1, 'monitorización de llamadas': 1, 'finanzas corporativas': 1, 'planificación de capacidad': 1, 'and informes': 1, 'and antipiratería': 1, 'desarrollo de software': 1, 'estrategia de ti': 1, 'azure data factory': 1, 'and información de clientes': 1, 'and grafos': 1, 'and almacenamiento de datos': 1, 'and sql server integration services (ssis)': 1, 'telemedicina': 1, 'visio': 1, 'os x': 1, 'and comercio electrónico': 1, 'amazon connect': 1, 'funcionalidades': 1, 'análisis complejo': 1, 'programación sas': 1, 'and desarrollo front end': 1, 'and microsoft dynamics': 1, 'stripe': 1, 'oozie': 1, 'equipos de proyecto': 1, 'gestión de contenidos': 1, 'and expert communicator': 1, 'mantenimiento de datos': 1, 'and elaboración de propuestas': 1, 'deportes': 1, 'fiabilidad': 1, 'estrategia de datos': 1, 'virtualización': 1, 'and arquitectura de sistemas': 1, 'planificación de recursos empresariales (erp)': 1, 'and análisis exploratorio de datos': 1, 'process creation': 1, 'business solution': 1, 'coaching': 1, 'maximo': 1, 'and gestión de existencias': 1, 'ewfm': 1, 'reglas de empresa': 1, 'sas visual analytics': 1, 'sybase': 1, 'orientación al cliente': 1, 'and data marts': 1, 'informes trimestrales': 1, 'líneas de tiempo': 1, 'software como servicio (saas)': 1, 'elaboración de presupuestos': 1, '.net framework': 1, 'apache solr': 1, 'cloudera': 1, 'and interpretación de datos': 1, 'and tecnología de la información': 1, 'and c#': 1, 'and documentación': 1, 'regional policy': 1, 'and facturación': 1, 'transformación digital': 1, 'elaboración de informes financieros': 1, 'dataiku dss': 1, 'optimización de conversiones': 1, 'pagos': 1, 'usabilidad': 1, 'gestión de incidencias': 1, 'and google data studio': 1, 'summaries': 1, 'sintaxis': 1, 'and investigación de datos': 1, 'uipath': 1, 'sector financiero': 1, 'and análisis predictivo': 1, 'hadoop': 1, 'and necesidades empresariales': 1, 'sports venues': 1, 'requisitos regulatorios': 1, 'and intraemprendeduría': 1, 'and aprendizaje automático': 1, 'atención al cliente': 1, 'and estándar de metadatos': 1, 'streaming de datos': 1, 'liderazgo de proyectos': 1, 'and visual basic for applications (vba)': 1, 'mantenimiento y reparaciones': 1, 'reconocimiento': 1, 'and centros de contacto': 1, 'logics': 1, 'confluence': 1, 'ciencias físicas': 1, 'negociación de contratos': 1, 'banca': 1, 'and análisis ad hoc': 1, 'and software de gestión de proyectos': 1, 'and velocidad': 1, 'herramientas de prueba': 1, 'and elaboración de presupuestos': 1, 'sistemas de negocios': 1, '.net core': 1, 'and investigación de mercado': 1, 'analyze information': 1, 'and gestión de productos': 1, 'conceptos de estadística': 1, 'lenguaje de consulta (query)': 1, 'niveles de servicio': 1, 'and educación continua': 1, 'and sas': 1, 'and automatización': 1, 'and sistemas de pago': 1, 'and análisis web': 1, 'google kubernetes engine (gke)': 1, 'and inglés hablado': 1, 'and diseño y construcción': 1, 'and apache': 1, 'viajes': 1, 'and medidas contra el lavado de dinero': 1, 'and gestión de relaciones con clientes (crm)': 1, 'and riesgo empresarial': 1, 'merlin (software)': 1, 'and liderazgo de equipos': 1, 'bank confirmation': 1, 'and lanzamiento de nuevos productos': 1, 'gestión de riesgos': 1, 'c++': 1, 'actitud positiva': 1, 'and sistema de gestión de bases de datos (sgbd)': 1, 'protección de los datos personales': 1, 'and bmc control-m': 1, 'documentos jurídicos': 1, 'and control de presupuestos': 1, 'and planificación de recursos': 1, 'and toma de decisiones': 1, 'gradle': 1, 'and niveles de servicio': 1, 'and presentaciones': 1, 'and ingeniería de datos': 1, 'medición de riesgos': 1, 'and gitlab': 1, 'and prevención': 1, 'fabricación digital': 1, 'and estándares de datos': 1, 'and medios de streaming': 1, 'eventos': 1, 'doctrine': 1, 'and lme': 1, 'and mantenimiento y reparaciones': 1, 'and encore': 1, 'and visualización analítica': 1, 'and looker (software)': 1, 'and programación en c': 1, 'and desarrollo de casos empresariales': 1, 'and computación': 1, 'and minería': 1, 'and contratación de recién titulados': 1, 'and estándares de contabilidad': 1, 'and recogida de datos': 1, 'and operaciones diarias': 1, 'and modelo de negocio': 1, 'and publicidad': 1, 'and aprendizaje profundo': 1, 'patrones de diseño': 1, 'and relación con el cliente': 1, 'and apache kafka': 1, 'and java': 1, 'and macro': 1, 'and apache spark': 1, 'and modelado': 1, 'and manufacturing execution system': 1, 'and oracle database': 1, 'and razonamiento': 1, 'and tácticas': 1, 'and documentación técnica': 1, 'and investigación de operaciones': 1, 'and microservicios': 1, 'and lenguaje de consulta (query)': 1})\n"
     ]
    }
   ],
   "source": [
    "from collections import Counter\n",
    "word_freq = Counter(skills['value'].str.lower().str.strip())\n",
    "print(word_freq)"
   ]
  },
  {
   "cell_type": "code",
   "execution_count": null,
   "id": "c115d0e5",
   "metadata": {},
   "outputs": [],
   "source": []
  }
 ],
 "metadata": {
  "kernelspec": {
   "display_name": "Python 3 (ipykernel)",
   "language": "python",
   "name": "python3"
  },
  "language_info": {
   "codemirror_mode": {
    "name": "ipython",
    "version": 3
   },
   "file_extension": ".py",
   "mimetype": "text/x-python",
   "name": "python",
   "nbconvert_exporter": "python",
   "pygments_lexer": "ipython3",
   "version": "3.9.12"
  }
 },
 "nbformat": 4,
 "nbformat_minor": 5
}
